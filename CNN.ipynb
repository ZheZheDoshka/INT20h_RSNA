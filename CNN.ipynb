{
 "cells": [
  {
   "cell_type": "code",
   "execution_count": 1,
   "id": "497ed7b7-2148-4a0b-a705-a26d6c4bc150",
   "metadata": {},
   "outputs": [],
   "source": [
    "import os\n",
    "from os import listdir\n",
    "from time import time\n",
    "import re\n",
    "import copy\n",
    "\n",
    "import pandas as pd\n",
    "import numpy as np"
   ]
  },
  {
   "cell_type": "code",
   "execution_count": 2,
   "id": "dbefa67a-c80e-4b76-9ab7-de55cf8eb6fd",
   "metadata": {},
   "outputs": [],
   "source": [
    "import matplotlib.pylab as plt"
   ]
  },
  {
   "cell_type": "code",
   "execution_count": 3,
   "id": "900d1f98-12c7-48da-82b3-c74baf1a3ad8",
   "metadata": {},
   "outputs": [],
   "source": [
    "import dicom2jpg"
   ]
  },
  {
   "cell_type": "code",
   "execution_count": 4,
   "id": "a1372ce3-8035-44ef-b37d-db7c53b0b5fd",
   "metadata": {},
   "outputs": [],
   "source": [
    "def load_data(filename): # frame creation\n",
    "    df = pd.read_csv(filename)\n",
    "    return(df)"
   ]
  },
  {
   "cell_type": "code",
   "execution_count": 5,
   "id": "c3b8f1c6-9b50-4ef1-906a-2a3dbaface71",
   "metadata": {},
   "outputs": [],
   "source": [
    "from tqdm import tqdm\n",
    "import torch.optim as optim"
   ]
  },
  {
   "cell_type": "code",
   "execution_count": 6,
   "id": "9c23832e-db9c-4a93-82e2-7a2cc18a0846",
   "metadata": {},
   "outputs": [],
   "source": [
    "detailed_class_info = load_data(\"kaggle_set/stage_2_detailed_class_info.csv\")"
   ]
  },
  {
   "cell_type": "code",
   "execution_count": 7,
   "id": "e2710b79-0836-4cd7-a99d-f82376d14da9",
   "metadata": {},
   "outputs": [],
   "source": [
    "train_labels = load_data(\"kaggle_set/stage_2_train_labels.csv\")"
   ]
  },
  {
   "cell_type": "code",
   "execution_count": 8,
   "id": "96e785d4-29df-4fc2-ab0f-f38c9c307a8c",
   "metadata": {},
   "outputs": [
    {
     "data": {
      "text/html": [
       "<div>\n",
       "<style scoped>\n",
       "    .dataframe tbody tr th:only-of-type {\n",
       "        vertical-align: middle;\n",
       "    }\n",
       "\n",
       "    .dataframe tbody tr th {\n",
       "        vertical-align: top;\n",
       "    }\n",
       "\n",
       "    .dataframe thead th {\n",
       "        text-align: right;\n",
       "    }\n",
       "</style>\n",
       "<table border=\"1\" class=\"dataframe\">\n",
       "  <thead>\n",
       "    <tr style=\"text-align: right;\">\n",
       "      <th></th>\n",
       "      <th>patientId</th>\n",
       "      <th>class</th>\n",
       "    </tr>\n",
       "  </thead>\n",
       "  <tbody>\n",
       "    <tr>\n",
       "      <th>0</th>\n",
       "      <td>0004cfab-14fd-4e49-80ba-63a80b6bddd6</td>\n",
       "      <td>No Lung Opacity / Not Normal</td>\n",
       "    </tr>\n",
       "    <tr>\n",
       "      <th>1</th>\n",
       "      <td>00313ee0-9eaa-42f4-b0ab-c148ed3241cd</td>\n",
       "      <td>No Lung Opacity / Not Normal</td>\n",
       "    </tr>\n",
       "    <tr>\n",
       "      <th>2</th>\n",
       "      <td>00322d4d-1c29-4943-afc9-b6754be640eb</td>\n",
       "      <td>No Lung Opacity / Not Normal</td>\n",
       "    </tr>\n",
       "    <tr>\n",
       "      <th>3</th>\n",
       "      <td>003d8fa0-6bf1-40ed-b54c-ac657f8495c5</td>\n",
       "      <td>Normal</td>\n",
       "    </tr>\n",
       "    <tr>\n",
       "      <th>4</th>\n",
       "      <td>00436515-870c-4b36-a041-de91049b9ab4</td>\n",
       "      <td>Lung Opacity</td>\n",
       "    </tr>\n",
       "  </tbody>\n",
       "</table>\n",
       "</div>"
      ],
      "text/plain": [
       "                              patientId                         class\n",
       "0  0004cfab-14fd-4e49-80ba-63a80b6bddd6  No Lung Opacity / Not Normal\n",
       "1  00313ee0-9eaa-42f4-b0ab-c148ed3241cd  No Lung Opacity / Not Normal\n",
       "2  00322d4d-1c29-4943-afc9-b6754be640eb  No Lung Opacity / Not Normal\n",
       "3  003d8fa0-6bf1-40ed-b54c-ac657f8495c5                        Normal\n",
       "4  00436515-870c-4b36-a041-de91049b9ab4                  Lung Opacity"
      ]
     },
     "execution_count": 8,
     "metadata": {},
     "output_type": "execute_result"
    }
   ],
   "source": [
    "detailed_class_info.head()"
   ]
  },
  {
   "cell_type": "code",
   "execution_count": 9,
   "id": "2cb9fbba-e208-495c-b3fd-e916a67672d8",
   "metadata": {},
   "outputs": [
    {
     "data": {
      "text/html": [
       "<div>\n",
       "<style scoped>\n",
       "    .dataframe tbody tr th:only-of-type {\n",
       "        vertical-align: middle;\n",
       "    }\n",
       "\n",
       "    .dataframe tbody tr th {\n",
       "        vertical-align: top;\n",
       "    }\n",
       "\n",
       "    .dataframe thead th {\n",
       "        text-align: right;\n",
       "    }\n",
       "</style>\n",
       "<table border=\"1\" class=\"dataframe\">\n",
       "  <thead>\n",
       "    <tr style=\"text-align: right;\">\n",
       "      <th></th>\n",
       "      <th>patientId</th>\n",
       "      <th>x</th>\n",
       "      <th>y</th>\n",
       "      <th>width</th>\n",
       "      <th>height</th>\n",
       "      <th>Target</th>\n",
       "    </tr>\n",
       "  </thead>\n",
       "  <tbody>\n",
       "    <tr>\n",
       "      <th>0</th>\n",
       "      <td>0004cfab-14fd-4e49-80ba-63a80b6bddd6</td>\n",
       "      <td>NaN</td>\n",
       "      <td>NaN</td>\n",
       "      <td>NaN</td>\n",
       "      <td>NaN</td>\n",
       "      <td>0</td>\n",
       "    </tr>\n",
       "    <tr>\n",
       "      <th>1</th>\n",
       "      <td>00313ee0-9eaa-42f4-b0ab-c148ed3241cd</td>\n",
       "      <td>NaN</td>\n",
       "      <td>NaN</td>\n",
       "      <td>NaN</td>\n",
       "      <td>NaN</td>\n",
       "      <td>0</td>\n",
       "    </tr>\n",
       "    <tr>\n",
       "      <th>2</th>\n",
       "      <td>00322d4d-1c29-4943-afc9-b6754be640eb</td>\n",
       "      <td>NaN</td>\n",
       "      <td>NaN</td>\n",
       "      <td>NaN</td>\n",
       "      <td>NaN</td>\n",
       "      <td>0</td>\n",
       "    </tr>\n",
       "    <tr>\n",
       "      <th>3</th>\n",
       "      <td>003d8fa0-6bf1-40ed-b54c-ac657f8495c5</td>\n",
       "      <td>NaN</td>\n",
       "      <td>NaN</td>\n",
       "      <td>NaN</td>\n",
       "      <td>NaN</td>\n",
       "      <td>0</td>\n",
       "    </tr>\n",
       "    <tr>\n",
       "      <th>4</th>\n",
       "      <td>00436515-870c-4b36-a041-de91049b9ab4</td>\n",
       "      <td>264.0</td>\n",
       "      <td>152.0</td>\n",
       "      <td>213.0</td>\n",
       "      <td>379.0</td>\n",
       "      <td>1</td>\n",
       "    </tr>\n",
       "  </tbody>\n",
       "</table>\n",
       "</div>"
      ],
      "text/plain": [
       "                              patientId      x      y  width  height  Target\n",
       "0  0004cfab-14fd-4e49-80ba-63a80b6bddd6    NaN    NaN    NaN     NaN       0\n",
       "1  00313ee0-9eaa-42f4-b0ab-c148ed3241cd    NaN    NaN    NaN     NaN       0\n",
       "2  00322d4d-1c29-4943-afc9-b6754be640eb    NaN    NaN    NaN     NaN       0\n",
       "3  003d8fa0-6bf1-40ed-b54c-ac657f8495c5    NaN    NaN    NaN     NaN       0\n",
       "4  00436515-870c-4b36-a041-de91049b9ab4  264.0  152.0  213.0   379.0       1"
      ]
     },
     "execution_count": 9,
     "metadata": {},
     "output_type": "execute_result"
    }
   ],
   "source": [
    "train_labels.head()"
   ]
  },
  {
   "cell_type": "code",
   "execution_count": 10,
   "id": "d3e4575d-400a-42b3-859a-75714a03f91a",
   "metadata": {},
   "outputs": [
    {
     "data": {
      "text/plain": [
       "30227"
      ]
     },
     "execution_count": 10,
     "metadata": {},
     "output_type": "execute_result"
    }
   ],
   "source": [
    "len(train_labels)"
   ]
  },
  {
   "cell_type": "code",
   "execution_count": 11,
   "id": "2ffb514e-877c-45b3-942a-a7dbf4d0ccfc",
   "metadata": {},
   "outputs": [
    {
     "data": {
      "text/plain": [
       "26684"
      ]
     },
     "execution_count": 11,
     "metadata": {},
     "output_type": "execute_result"
    }
   ],
   "source": [
    "len(pd.unique((train_labels['patientId'])))"
   ]
  },
  {
   "cell_type": "code",
   "execution_count": 135,
   "id": "98b2b0c4-e3bb-4afd-83b5-913908bdd067",
   "metadata": {},
   "outputs": [],
   "source": [
    "def image_path(row):\n",
    "    # return f'kaggle_set/stage_2_train_images/{row[\"patientId\"]}.dcm'\n",
    "    return f'{row[\"patientId\"]}.png'"
   ]
  },
  {
   "cell_type": "code",
   "execution_count": 13,
   "id": "decb75c3-6a74-475b-899c-629ccb492916",
   "metadata": {},
   "outputs": [],
   "source": [
    "def image_path(row):\n",
    "    # return f'kaggle_set/stage_2_train_images/{row[\"patientId\"]}.dcm'\n",
    "    return f'{row[\"patientId\"]}.png'\n",
    "def image_target_label(row):\n",
    "    return int(row['label'][0])"
   ]
  },
  {
   "cell_type": "code",
   "execution_count": 136,
   "id": "f0ed98a7-ed47-43b5-90a0-9492498ec07d",
   "metadata": {},
   "outputs": [],
   "source": [
    "full_info = pd.concat([train_labels, \n",
    "                        detailed_class_info.drop(['patientId'], axis=1)], axis=1)\n",
    "full_info[\"patient_path\"] = full_info.apply(image_path, axis=1)"
   ]
  },
  {
   "cell_type": "code",
   "execution_count": 137,
   "id": "f1a838c4-ed59-4ab8-8387-9b8e85136f29",
   "metadata": {
    "scrolled": true
   },
   "outputs": [
    {
     "data": {
      "text/html": [
       "<div>\n",
       "<style scoped>\n",
       "    .dataframe tbody tr th:only-of-type {\n",
       "        vertical-align: middle;\n",
       "    }\n",
       "\n",
       "    .dataframe tbody tr th {\n",
       "        vertical-align: top;\n",
       "    }\n",
       "\n",
       "    .dataframe thead th {\n",
       "        text-align: right;\n",
       "    }\n",
       "</style>\n",
       "<table border=\"1\" class=\"dataframe\">\n",
       "  <thead>\n",
       "    <tr style=\"text-align: right;\">\n",
       "      <th></th>\n",
       "      <th>patientId</th>\n",
       "      <th>x</th>\n",
       "      <th>y</th>\n",
       "      <th>width</th>\n",
       "      <th>height</th>\n",
       "      <th>Target</th>\n",
       "      <th>class</th>\n",
       "      <th>patient_path</th>\n",
       "    </tr>\n",
       "  </thead>\n",
       "  <tbody>\n",
       "    <tr>\n",
       "      <th>0</th>\n",
       "      <td>0004cfab-14fd-4e49-80ba-63a80b6bddd6</td>\n",
       "      <td>NaN</td>\n",
       "      <td>NaN</td>\n",
       "      <td>NaN</td>\n",
       "      <td>NaN</td>\n",
       "      <td>0</td>\n",
       "      <td>No Lung Opacity / Not Normal</td>\n",
       "      <td>0004cfab-14fd-4e49-80ba-63a80b6bddd6.png</td>\n",
       "    </tr>\n",
       "    <tr>\n",
       "      <th>1</th>\n",
       "      <td>00313ee0-9eaa-42f4-b0ab-c148ed3241cd</td>\n",
       "      <td>NaN</td>\n",
       "      <td>NaN</td>\n",
       "      <td>NaN</td>\n",
       "      <td>NaN</td>\n",
       "      <td>0</td>\n",
       "      <td>No Lung Opacity / Not Normal</td>\n",
       "      <td>00313ee0-9eaa-42f4-b0ab-c148ed3241cd.png</td>\n",
       "    </tr>\n",
       "    <tr>\n",
       "      <th>2</th>\n",
       "      <td>00322d4d-1c29-4943-afc9-b6754be640eb</td>\n",
       "      <td>NaN</td>\n",
       "      <td>NaN</td>\n",
       "      <td>NaN</td>\n",
       "      <td>NaN</td>\n",
       "      <td>0</td>\n",
       "      <td>No Lung Opacity / Not Normal</td>\n",
       "      <td>00322d4d-1c29-4943-afc9-b6754be640eb.png</td>\n",
       "    </tr>\n",
       "    <tr>\n",
       "      <th>3</th>\n",
       "      <td>003d8fa0-6bf1-40ed-b54c-ac657f8495c5</td>\n",
       "      <td>NaN</td>\n",
       "      <td>NaN</td>\n",
       "      <td>NaN</td>\n",
       "      <td>NaN</td>\n",
       "      <td>0</td>\n",
       "      <td>Normal</td>\n",
       "      <td>003d8fa0-6bf1-40ed-b54c-ac657f8495c5.png</td>\n",
       "    </tr>\n",
       "    <tr>\n",
       "      <th>4</th>\n",
       "      <td>00436515-870c-4b36-a041-de91049b9ab4</td>\n",
       "      <td>264.0</td>\n",
       "      <td>152.0</td>\n",
       "      <td>213.0</td>\n",
       "      <td>379.0</td>\n",
       "      <td>1</td>\n",
       "      <td>Lung Opacity</td>\n",
       "      <td>00436515-870c-4b36-a041-de91049b9ab4.png</td>\n",
       "    </tr>\n",
       "    <tr>\n",
       "      <th>...</th>\n",
       "      <td>...</td>\n",
       "      <td>...</td>\n",
       "      <td>...</td>\n",
       "      <td>...</td>\n",
       "      <td>...</td>\n",
       "      <td>...</td>\n",
       "      <td>...</td>\n",
       "      <td>...</td>\n",
       "    </tr>\n",
       "    <tr>\n",
       "      <th>30222</th>\n",
       "      <td>c1ec14ff-f6d7-4b38-b0cb-fe07041cbdc8</td>\n",
       "      <td>185.0</td>\n",
       "      <td>298.0</td>\n",
       "      <td>228.0</td>\n",
       "      <td>379.0</td>\n",
       "      <td>1</td>\n",
       "      <td>Lung Opacity</td>\n",
       "      <td>c1ec14ff-f6d7-4b38-b0cb-fe07041cbdc8.png</td>\n",
       "    </tr>\n",
       "    <tr>\n",
       "      <th>30223</th>\n",
       "      <td>c1edf42b-5958-47ff-a1e7-4f23d99583ba</td>\n",
       "      <td>NaN</td>\n",
       "      <td>NaN</td>\n",
       "      <td>NaN</td>\n",
       "      <td>NaN</td>\n",
       "      <td>0</td>\n",
       "      <td>Normal</td>\n",
       "      <td>c1edf42b-5958-47ff-a1e7-4f23d99583ba.png</td>\n",
       "    </tr>\n",
       "    <tr>\n",
       "      <th>30224</th>\n",
       "      <td>c1f6b555-2eb1-4231-98f6-50a963976431</td>\n",
       "      <td>NaN</td>\n",
       "      <td>NaN</td>\n",
       "      <td>NaN</td>\n",
       "      <td>NaN</td>\n",
       "      <td>0</td>\n",
       "      <td>Normal</td>\n",
       "      <td>c1f6b555-2eb1-4231-98f6-50a963976431.png</td>\n",
       "    </tr>\n",
       "    <tr>\n",
       "      <th>30225</th>\n",
       "      <td>c1f7889a-9ea9-4acb-b64c-b737c929599a</td>\n",
       "      <td>570.0</td>\n",
       "      <td>393.0</td>\n",
       "      <td>261.0</td>\n",
       "      <td>345.0</td>\n",
       "      <td>1</td>\n",
       "      <td>Lung Opacity</td>\n",
       "      <td>c1f7889a-9ea9-4acb-b64c-b737c929599a.png</td>\n",
       "    </tr>\n",
       "    <tr>\n",
       "      <th>30226</th>\n",
       "      <td>c1f7889a-9ea9-4acb-b64c-b737c929599a</td>\n",
       "      <td>233.0</td>\n",
       "      <td>424.0</td>\n",
       "      <td>201.0</td>\n",
       "      <td>356.0</td>\n",
       "      <td>1</td>\n",
       "      <td>Lung Opacity</td>\n",
       "      <td>c1f7889a-9ea9-4acb-b64c-b737c929599a.png</td>\n",
       "    </tr>\n",
       "  </tbody>\n",
       "</table>\n",
       "<p>30227 rows × 8 columns</p>\n",
       "</div>"
      ],
      "text/plain": [
       "                                  patientId      x      y  width  height  \\\n",
       "0      0004cfab-14fd-4e49-80ba-63a80b6bddd6    NaN    NaN    NaN     NaN   \n",
       "1      00313ee0-9eaa-42f4-b0ab-c148ed3241cd    NaN    NaN    NaN     NaN   \n",
       "2      00322d4d-1c29-4943-afc9-b6754be640eb    NaN    NaN    NaN     NaN   \n",
       "3      003d8fa0-6bf1-40ed-b54c-ac657f8495c5    NaN    NaN    NaN     NaN   \n",
       "4      00436515-870c-4b36-a041-de91049b9ab4  264.0  152.0  213.0   379.0   \n",
       "...                                     ...    ...    ...    ...     ...   \n",
       "30222  c1ec14ff-f6d7-4b38-b0cb-fe07041cbdc8  185.0  298.0  228.0   379.0   \n",
       "30223  c1edf42b-5958-47ff-a1e7-4f23d99583ba    NaN    NaN    NaN     NaN   \n",
       "30224  c1f6b555-2eb1-4231-98f6-50a963976431    NaN    NaN    NaN     NaN   \n",
       "30225  c1f7889a-9ea9-4acb-b64c-b737c929599a  570.0  393.0  261.0   345.0   \n",
       "30226  c1f7889a-9ea9-4acb-b64c-b737c929599a  233.0  424.0  201.0   356.0   \n",
       "\n",
       "       Target                         class  \\\n",
       "0           0  No Lung Opacity / Not Normal   \n",
       "1           0  No Lung Opacity / Not Normal   \n",
       "2           0  No Lung Opacity / Not Normal   \n",
       "3           0                        Normal   \n",
       "4           1                  Lung Opacity   \n",
       "...       ...                           ...   \n",
       "30222       1                  Lung Opacity   \n",
       "30223       0                        Normal   \n",
       "30224       0                        Normal   \n",
       "30225       1                  Lung Opacity   \n",
       "30226       1                  Lung Opacity   \n",
       "\n",
       "                                   patient_path  \n",
       "0      0004cfab-14fd-4e49-80ba-63a80b6bddd6.png  \n",
       "1      00313ee0-9eaa-42f4-b0ab-c148ed3241cd.png  \n",
       "2      00322d4d-1c29-4943-afc9-b6754be640eb.png  \n",
       "3      003d8fa0-6bf1-40ed-b54c-ac657f8495c5.png  \n",
       "4      00436515-870c-4b36-a041-de91049b9ab4.png  \n",
       "...                                         ...  \n",
       "30222  c1ec14ff-f6d7-4b38-b0cb-fe07041cbdc8.png  \n",
       "30223  c1edf42b-5958-47ff-a1e7-4f23d99583ba.png  \n",
       "30224  c1f6b555-2eb1-4231-98f6-50a963976431.png  \n",
       "30225  c1f7889a-9ea9-4acb-b64c-b737c929599a.png  \n",
       "30226  c1f7889a-9ea9-4acb-b64c-b737c929599a.png  \n",
       "\n",
       "[30227 rows x 8 columns]"
      ]
     },
     "execution_count": 137,
     "metadata": {},
     "output_type": "execute_result"
    }
   ],
   "source": [
    "full_info"
   ]
  },
  {
   "cell_type": "code",
   "execution_count": null,
   "id": "7c74bc20-5153-4d74-b20a-f380918b8c23",
   "metadata": {},
   "outputs": [],
   "source": []
  },
  {
   "cell_type": "code",
   "execution_count": 16,
   "id": "7d5c00ff-a44d-4584-8d39-1b332cc4cfcb",
   "metadata": {},
   "outputs": [],
   "source": [
    "INPUT_HEIGHT = 224\n",
    "INPUT_WIDTH = 224\n",
    "BATCH_SIZE = 16\n",
    "VAL_SPLIT = 0.15"
   ]
  },
  {
   "cell_type": "code",
   "execution_count": 17,
   "id": "5a1e7b0a-1e44-445b-8862-c0bed6cc7824",
   "metadata": {},
   "outputs": [],
   "source": [
    "\n",
    "from torchvision.datasets import ImageFolder\n",
    "from torchvision import transforms\n",
    "from torch.utils.data import DataLoader\n",
    "from torch.utils.data import Dataset\n",
    "import torchvision"
   ]
  },
  {
   "cell_type": "code",
   "execution_count": 190,
   "id": "eb5350d4-6a38-4a61-ae7b-92235c4e5830",
   "metadata": {},
   "outputs": [],
   "source": [
    "\n",
    "\n",
    "h_flip = transforms.RandomVerticalFlip()\n",
    "v_flip = transforms.RandomHorizontalFlip()\n",
    "rotate = transforms.RandomRotation(degrees=25)"
   ]
  },
  {
   "cell_type": "code",
   "execution_count": null,
   "id": "ef63bfe4-e313-427f-a4fa-bfbbd54b0237",
   "metadata": {},
   "outputs": [],
   "source": []
  },
  {
   "cell_type": "code",
   "execution_count": 191,
   "id": "a6c6affa-555e-4a60-ae57-ee59fac690c2",
   "metadata": {},
   "outputs": [],
   "source": [
    "h_flip = transforms.RandomVerticalFlip()\n",
    "v_flip = transforms.RandomHorizontalFlip()\n",
    "rotate = transforms.RandomRotation(degrees=25)\n",
    "resize = transforms.RandomResizedCrop(size=224, scale=(0.9, 1))\n",
    "train_transforms = transforms.Compose([h_flip, v_flip, rotate, resize,\n",
    "        transforms.ToTensor()])"
   ]
  },
  {
   "cell_type": "code",
   "execution_count": 24,
   "id": "7709be61-174a-48fe-b625-10edc4d4ddde",
   "metadata": {},
   "outputs": [],
   "source": [
    "import cv2\n",
    "import pydicom as dicom"
   ]
  },
  {
   "cell_type": "code",
   "execution_count": 25,
   "id": "72082690-97ab-4c96-a545-6402928b4414",
   "metadata": {},
   "outputs": [],
   "source": [
    "def convert_dcm_to_jpg(dcm_path, jpg_path):\n",
    "    \"\"\"\n",
    "    Converts dcm format files to jpg\n",
    "    Arguments: \n",
    "    dcm_path - path to folder with .dcm images\n",
    "    jpg_path - path to folder with .jpg images\n",
    "    \"\"\"\n",
    "    images_path = os.listdir(dcm_path)\n",
    "    for n, image in enumerate(images_path):\n",
    "        ds = dicom.dcmread(os.path.join(dcm_path, image))\n",
    "        np_im = ds.pixel_array\n",
    "        image = image.replace('.dcm', '.jpg')\n",
    "        np_im = cv2.resize(np_im, (INPUT_HEIGHT, INPUT_HEIGHT))\n",
    "        cv2.imwrite(os.path.join(jpg_path, image), np_im)"
   ]
  },
  {
   "cell_type": "code",
   "execution_count": 109,
   "id": "1de4e99d-7e2e-41b2-a6e1-c35a99991829",
   "metadata": {},
   "outputs": [],
   "source": [
    "def convert_dcm_to_jpg(dcm_path, png_path):\n",
    "    \"\"\"\n",
    "    Converts dcm format files to png\n",
    "    Arguments: \n",
    "    dcm_path - path to folder with .dcm images\n",
    "    png_path - path to folder with .png images\n",
    "    \"\"\"\n",
    "    images_path = os.listdir(dcm_path)\n",
    "    for n, image in enumerate(images_path):\n",
    "        ds = dicom.dcmread(os.path.join(dcm_path, image))\n",
    "        np_im = ds.pixel_array\n",
    "        image = image.replace('.dcm', '.png')\n",
    "        np_im = cv2.resize(np_im, (INPUT_HEIGHT, INPUT_HEIGHT))\n",
    "        cv2.imwrite(os.path.join(png_path, image), np_im)"
   ]
  },
  {
   "cell_type": "code",
   "execution_count": 26,
   "id": "b129e81c-79a9-4c86-b1d9-f380a46dc08a",
   "metadata": {},
   "outputs": [
    {
     "name": "stdout",
     "output_type": "stream",
     "text": [
      "(1024, 1024)\n"
     ]
    },
    {
     "data": {
      "text/plain": [
       "<matplotlib.image.AxesImage at 0x20fcf2deb90>"
      ]
     },
     "execution_count": 26,
     "metadata": {},
     "output_type": "execute_result"
    },
    {
     "data": {
      "image/png": "[encoded data removed]",
      "text/plain": [
       "<Figure size 640x480 with 1 Axes>"
      ]
     },
     "metadata": {},
     "output_type": "display_data"
    }
   ],
   "source": [
    "ds = dicom.dcmread('kaggle_set/stage_2_train_images/0004cfab-14fd-4e49-80ba-63a80b6bddd6.dcm')\n",
    "np_im = ds.pixel_array\n",
    "print(np_im.shape)\n",
    "plt.imshow(np_im)"
   ]
  },
  {
   "cell_type": "code",
   "execution_count": 106,
   "id": "8f329528-5f59-434e-816e-e563a2af0c24",
   "metadata": {},
   "outputs": [],
   "source": [
    "jpg_dir = 'kaggle_set/png/stage_2_train_images_jpg_'+str(INPUT_HEIGHT)\n",
    "dcm_dir = 'kaggle_set/stage_2_train_images'"
   ]
  },
  {
   "cell_type": "code",
   "execution_count": 110,
   "id": "195ed42b-bb56-497e-9f51-f697139ec666",
   "metadata": {},
   "outputs": [],
   "source": [
    "convert_dcm_to_jpg('kaggle_set/stage_2_train_images', jpg_dir)"
   ]
  },
  {
   "cell_type": "code",
   "execution_count": 142,
   "id": "e1bc7495-8001-44df-9ae8-d86ff7b053c1",
   "metadata": {},
   "outputs": [
    {
     "data": {
      "text/html": [
       "<div>\n",
       "<style scoped>\n",
       "    .dataframe tbody tr th:only-of-type {\n",
       "        vertical-align: middle;\n",
       "    }\n",
       "\n",
       "    .dataframe tbody tr th {\n",
       "        vertical-align: top;\n",
       "    }\n",
       "\n",
       "    .dataframe thead th {\n",
       "        text-align: right;\n",
       "    }\n",
       "</style>\n",
       "<table border=\"1\" class=\"dataframe\">\n",
       "  <thead>\n",
       "    <tr style=\"text-align: right;\">\n",
       "      <th></th>\n",
       "      <th>patient_path</th>\n",
       "      <th>x</th>\n",
       "      <th>y</th>\n",
       "      <th>width</th>\n",
       "      <th>height</th>\n",
       "      <th>label</th>\n",
       "    </tr>\n",
       "  </thead>\n",
       "  <tbody>\n",
       "    <tr>\n",
       "      <th>0</th>\n",
       "      <td>0004cfab-14fd-4e49-80ba-63a80b6bddd6.png</td>\n",
       "      <td>NaN</td>\n",
       "      <td>NaN</td>\n",
       "      <td>NaN</td>\n",
       "      <td>NaN</td>\n",
       "      <td>0</td>\n",
       "    </tr>\n",
       "    <tr>\n",
       "      <th>1</th>\n",
       "      <td>00313ee0-9eaa-42f4-b0ab-c148ed3241cd.png</td>\n",
       "      <td>NaN</td>\n",
       "      <td>NaN</td>\n",
       "      <td>NaN</td>\n",
       "      <td>NaN</td>\n",
       "      <td>0</td>\n",
       "    </tr>\n",
       "    <tr>\n",
       "      <th>2</th>\n",
       "      <td>00322d4d-1c29-4943-afc9-b6754be640eb.png</td>\n",
       "      <td>NaN</td>\n",
       "      <td>NaN</td>\n",
       "      <td>NaN</td>\n",
       "      <td>NaN</td>\n",
       "      <td>0</td>\n",
       "    </tr>\n",
       "    <tr>\n",
       "      <th>3</th>\n",
       "      <td>003d8fa0-6bf1-40ed-b54c-ac657f8495c5.png</td>\n",
       "      <td>NaN</td>\n",
       "      <td>NaN</td>\n",
       "      <td>NaN</td>\n",
       "      <td>NaN</td>\n",
       "      <td>0</td>\n",
       "    </tr>\n",
       "    <tr>\n",
       "      <th>4</th>\n",
       "      <td>00436515-870c-4b36-a041-de91049b9ab4.png</td>\n",
       "      <td>264.0</td>\n",
       "      <td>152.0</td>\n",
       "      <td>213.0</td>\n",
       "      <td>379.0</td>\n",
       "      <td>1</td>\n",
       "    </tr>\n",
       "    <tr>\n",
       "      <th>...</th>\n",
       "      <td>...</td>\n",
       "      <td>...</td>\n",
       "      <td>...</td>\n",
       "      <td>...</td>\n",
       "      <td>...</td>\n",
       "      <td>...</td>\n",
       "    </tr>\n",
       "    <tr>\n",
       "      <th>30222</th>\n",
       "      <td>c1ec14ff-f6d7-4b38-b0cb-fe07041cbdc8.png</td>\n",
       "      <td>185.0</td>\n",
       "      <td>298.0</td>\n",
       "      <td>228.0</td>\n",
       "      <td>379.0</td>\n",
       "      <td>1</td>\n",
       "    </tr>\n",
       "    <tr>\n",
       "      <th>30223</th>\n",
       "      <td>c1edf42b-5958-47ff-a1e7-4f23d99583ba.png</td>\n",
       "      <td>NaN</td>\n",
       "      <td>NaN</td>\n",
       "      <td>NaN</td>\n",
       "      <td>NaN</td>\n",
       "      <td>0</td>\n",
       "    </tr>\n",
       "    <tr>\n",
       "      <th>30224</th>\n",
       "      <td>c1f6b555-2eb1-4231-98f6-50a963976431.png</td>\n",
       "      <td>NaN</td>\n",
       "      <td>NaN</td>\n",
       "      <td>NaN</td>\n",
       "      <td>NaN</td>\n",
       "      <td>0</td>\n",
       "    </tr>\n",
       "    <tr>\n",
       "      <th>30225</th>\n",
       "      <td>c1f7889a-9ea9-4acb-b64c-b737c929599a.png</td>\n",
       "      <td>570.0</td>\n",
       "      <td>393.0</td>\n",
       "      <td>261.0</td>\n",
       "      <td>345.0</td>\n",
       "      <td>1</td>\n",
       "    </tr>\n",
       "    <tr>\n",
       "      <th>30226</th>\n",
       "      <td>c1f7889a-9ea9-4acb-b64c-b737c929599a.png</td>\n",
       "      <td>233.0</td>\n",
       "      <td>424.0</td>\n",
       "      <td>201.0</td>\n",
       "      <td>356.0</td>\n",
       "      <td>1</td>\n",
       "    </tr>\n",
       "  </tbody>\n",
       "</table>\n",
       "<p>30227 rows × 6 columns</p>\n",
       "</div>"
      ],
      "text/plain": [
       "                                   patient_path      x      y  width  height  \\\n",
       "0      0004cfab-14fd-4e49-80ba-63a80b6bddd6.png    NaN    NaN    NaN     NaN   \n",
       "1      00313ee0-9eaa-42f4-b0ab-c148ed3241cd.png    NaN    NaN    NaN     NaN   \n",
       "2      00322d4d-1c29-4943-afc9-b6754be640eb.png    NaN    NaN    NaN     NaN   \n",
       "3      003d8fa0-6bf1-40ed-b54c-ac657f8495c5.png    NaN    NaN    NaN     NaN   \n",
       "4      00436515-870c-4b36-a041-de91049b9ab4.png  264.0  152.0  213.0   379.0   \n",
       "...                                         ...    ...    ...    ...     ...   \n",
       "30222  c1ec14ff-f6d7-4b38-b0cb-fe07041cbdc8.png  185.0  298.0  228.0   379.0   \n",
       "30223  c1edf42b-5958-47ff-a1e7-4f23d99583ba.png    NaN    NaN    NaN     NaN   \n",
       "30224  c1f6b555-2eb1-4231-98f6-50a963976431.png    NaN    NaN    NaN     NaN   \n",
       "30225  c1f7889a-9ea9-4acb-b64c-b737c929599a.png  570.0  393.0  261.0   345.0   \n",
       "30226  c1f7889a-9ea9-4acb-b64c-b737c929599a.png  233.0  424.0  201.0   356.0   \n",
       "\n",
       "       label  \n",
       "0          0  \n",
       "1          0  \n",
       "2          0  \n",
       "3          0  \n",
       "4          1  \n",
       "...      ...  \n",
       "30222      1  \n",
       "30223      0  \n",
       "30224      0  \n",
       "30225      1  \n",
       "30226      1  \n",
       "\n",
       "[30227 rows x 6 columns]"
      ]
     },
     "execution_count": 142,
     "metadata": {},
     "output_type": "execute_result"
    }
   ],
   "source": [
    "train_label_set = copy.deepcopy(full_info[['patient_path', 'x', 'y', 'width', 'height']])\n",
    "train_label_set['label'] = copy.deepcopy(full_info['Target'])\n",
    "train_label_set"
   ]
  },
  {
   "cell_type": "code",
   "execution_count": 143,
   "id": "3514fed8-8493-4879-9c0b-0c76963b665d",
   "metadata": {},
   "outputs": [
    {
     "data": {
      "text/plain": [
       "20672"
      ]
     },
     "execution_count": 143,
     "metadata": {},
     "output_type": "execute_result"
    }
   ],
   "source": [
    "len(train_label_set[train_label_set['label']==0])"
   ]
  },
  {
   "cell_type": "code",
   "execution_count": 144,
   "id": "7586c429-3294-4714-9341-428702d96905",
   "metadata": {},
   "outputs": [],
   "source": [
    "def image_x2(row):\n",
    "    return row['x']+row['width']\n",
    "\n",
    "def image_y2(row):\n",
    "    return row['y']+row['height']"
   ]
  },
  {
   "cell_type": "code",
   "execution_count": 145,
   "id": "6dd39803-0ba9-4df4-aeaf-5ed34c930e1f",
   "metadata": {},
   "outputs": [],
   "source": [
    "train_label_set_clean = copy.deepcopy(train_label_set)\n",
    "train_label_set_clean[\"x2\"] = train_label_set_clean.apply(image_x2, axis=1)\n",
    "train_label_set_clean[\"y2\"] = train_label_set_clean.apply(image_y2, axis=1)\n",
    "train_label_set_clean['bbox'] = train_label_set_clean[['x', 'y', 'x2' , 'y2']].apply(list, axis=1).fillna(0)\n",
    "train_label_set_clean = train_label_set_clean.drop(columns=['x', 'y', 'x2' , 'y2', 'height', 'width']).groupby('patient_path', as_index=False).agg(list)\n",
    "\n",
    "train_label_set_clean[\"target\"] = train_label_set_clean.apply(image_target_label, axis=1)"
   ]
  },
  {
   "cell_type": "code",
   "execution_count": null,
   "id": "44351387-632d-49df-b6f2-44105f2a0f4d",
   "metadata": {},
   "outputs": [],
   "source": []
  },
  {
   "cell_type": "code",
   "execution_count": 146,
   "id": "3b2ebe40-fcd2-4e26-8ccd-afc7d12c952c",
   "metadata": {},
   "outputs": [],
   "source": [
    "#nan_line = train_label_set_clean.loc[0]['bbox']\n",
    "\n",
    "#train_label_set_clean.loc[train_label_set_clean['bbox'] == nan_line] = [[0,0,0,0]]"
   ]
  },
  {
   "cell_type": "code",
   "execution_count": 147,
   "id": "34e3665b-b71d-4f75-8402-19b2c5db8b50",
   "metadata": {},
   "outputs": [
    {
     "data": {
      "text/html": [
       "<div>\n",
       "<style scoped>\n",
       "    .dataframe tbody tr th:only-of-type {\n",
       "        vertical-align: middle;\n",
       "    }\n",
       "\n",
       "    .dataframe tbody tr th {\n",
       "        vertical-align: top;\n",
       "    }\n",
       "\n",
       "    .dataframe thead th {\n",
       "        text-align: right;\n",
       "    }\n",
       "</style>\n",
       "<table border=\"1\" class=\"dataframe\">\n",
       "  <thead>\n",
       "    <tr style=\"text-align: right;\">\n",
       "      <th></th>\n",
       "      <th>patient_path</th>\n",
       "      <th>label</th>\n",
       "      <th>bbox</th>\n",
       "      <th>target</th>\n",
       "    </tr>\n",
       "  </thead>\n",
       "  <tbody>\n",
       "    <tr>\n",
       "      <th>0</th>\n",
       "      <td>0004cfab-14fd-4e49-80ba-63a80b6bddd6.png</td>\n",
       "      <td>[0]</td>\n",
       "      <td>[[nan, nan, nan, nan]]</td>\n",
       "      <td>0</td>\n",
       "    </tr>\n",
       "    <tr>\n",
       "      <th>1</th>\n",
       "      <td>000924cf-0f8d-42bd-9158-1af53881a557.png</td>\n",
       "      <td>[0]</td>\n",
       "      <td>[[nan, nan, nan, nan]]</td>\n",
       "      <td>0</td>\n",
       "    </tr>\n",
       "    <tr>\n",
       "      <th>2</th>\n",
       "      <td>000db696-cf54-4385-b10b-6b16fbb3f985.png</td>\n",
       "      <td>[1, 1]</td>\n",
       "      <td>[[316.0, 318.0, 486.0, 796.0], [660.0, 375.0, ...</td>\n",
       "      <td>1</td>\n",
       "    </tr>\n",
       "    <tr>\n",
       "      <th>3</th>\n",
       "      <td>000fe35a-2649-43d4-b027-e67796d412e0.png</td>\n",
       "      <td>[1, 1]</td>\n",
       "      <td>[[570.0, 282.0, 839.0, 691.0], [83.0, 227.0, 3...</td>\n",
       "      <td>1</td>\n",
       "    </tr>\n",
       "    <tr>\n",
       "      <th>4</th>\n",
       "      <td>001031d9-f904-4a23-b3e5-2c088acd19c6.png</td>\n",
       "      <td>[1, 1]</td>\n",
       "      <td>[[66.0, 160.0, 439.0, 768.0], [552.0, 164.0, 9...</td>\n",
       "      <td>1</td>\n",
       "    </tr>\n",
       "  </tbody>\n",
       "</table>\n",
       "</div>"
      ],
      "text/plain": [
       "                               patient_path   label  \\\n",
       "0  0004cfab-14fd-4e49-80ba-63a80b6bddd6.png     [0]   \n",
       "1  000924cf-0f8d-42bd-9158-1af53881a557.png     [0]   \n",
       "2  000db696-cf54-4385-b10b-6b16fbb3f985.png  [1, 1]   \n",
       "3  000fe35a-2649-43d4-b027-e67796d412e0.png  [1, 1]   \n",
       "4  001031d9-f904-4a23-b3e5-2c088acd19c6.png  [1, 1]   \n",
       "\n",
       "                                                bbox  target  \n",
       "0                             [[nan, nan, nan, nan]]       0  \n",
       "1                             [[nan, nan, nan, nan]]       0  \n",
       "2  [[316.0, 318.0, 486.0, 796.0], [660.0, 375.0, ...       1  \n",
       "3  [[570.0, 282.0, 839.0, 691.0], [83.0, 227.0, 3...       1  \n",
       "4  [[66.0, 160.0, 439.0, 768.0], [552.0, 164.0, 9...       1  "
      ]
     },
     "execution_count": 147,
     "metadata": {},
     "output_type": "execute_result"
    }
   ],
   "source": [
    "train_label_set_clean.head()"
   ]
  },
  {
   "cell_type": "code",
   "execution_count": 148,
   "id": "d9552ec4-d843-43bd-9de1-dadd855b9ec3",
   "metadata": {},
   "outputs": [],
   "source": [
    "val_set=train_label_set_clean.sample(frac=VAL_SPLIT,random_state=8)\n",
    "train_set=train_label_set_clean#.drop(val_set.index).reset_index()\n",
    "val_set = val_set.reset_index()"
   ]
  },
  {
   "cell_type": "code",
   "execution_count": null,
   "id": "bb1a3647-dca8-46ae-8e17-ce170d84e08d",
   "metadata": {},
   "outputs": [],
   "source": []
  },
  {
   "cell_type": "code",
   "execution_count": 149,
   "id": "401c185d-f65b-4cf5-901f-0e51b50b78b6",
   "metadata": {},
   "outputs": [
    {
     "data": {
      "text/plain": [
       "0.29082817337461303"
      ]
     },
     "execution_count": 149,
     "metadata": {},
     "output_type": "execute_result"
    }
   ],
   "source": [
    "len(train_set[train_set['target']==1])/len(train_set[train_set['target']==0])"
   ]
  },
  {
   "cell_type": "code",
   "execution_count": 150,
   "id": "3785e6be-eb68-4966-8d41-9ea84c38fdb1",
   "metadata": {},
   "outputs": [],
   "source": [
    "val_set.to_csv('kaggle_set/val_labels.csv')\n",
    "train_set.to_csv('kaggle_set/train_labels.csv')"
   ]
  },
  {
   "cell_type": "code",
   "execution_count": 151,
   "id": "766b807b-2b1f-4377-bf3a-70e92fbde5d2",
   "metadata": {},
   "outputs": [],
   "source": [
    "train_set_box = copy.deepcopy(train_label_set_clean[train_label_set_clean['target']==1]).reset_index()\n",
    "val_set_box = copy.deepcopy(val_set[val_set['target']==1]).reset_index()"
   ]
  },
  {
   "cell_type": "code",
   "execution_count": 152,
   "id": "b60dc474-057a-472d-be20-19c3510af431",
   "metadata": {},
   "outputs": [],
   "source": [
    "import torch\n",
    "import torchvision\n",
    "import torch.nn as nn\n",
    "import torch.nn.functional as F"
   ]
  },
  {
   "cell_type": "code",
   "execution_count": 153,
   "id": "810f8130-9775-4313-af9a-8fd0cfbe0a61",
   "metadata": {},
   "outputs": [],
   "source": [
    "import json\n",
    "from PIL import Image\n",
    "class ImageDataset(Dataset):\n",
    "    \"\"\"\n",
    "    Class that creates dataset for training task\n",
    "    Arguments: \n",
    "    classification - bool, True - set for classification only, False - for obj detection\n",
    "    transform - transform for input image\n",
    "    target_transform - transform for label\n",
    "    labels - path to csv file with cleaned dataset\n",
    "    labels_df - dataframe with cleaned dataset\n",
    "    img_dir - path to directory with training images\n",
    "    \"\"\"\n",
    "    def __init__(self, img_dir, labels_df=None,\n",
    "                 labels=None,transform=None, target_transform=None, \n",
    "                 classification=True):\n",
    "        if labels:\n",
    "            self.img_labels = pd.read_csv(labels)\n",
    "        if not isinstance(labels_df, type(None)):\n",
    "            self.img_labels = labels_df\n",
    "        self.img_dir = img_dir\n",
    "        self.transform = transform\n",
    "        self.target_transform = target_transform\n",
    "        self.classification = classification\n",
    "        self.mult = INPUT_HEIGHT/1024\n",
    "\n",
    "    def __len__(self):\n",
    "        return self.img_labels.shape[0]\n",
    "\n",
    "    def __getitem__(self, idx):\n",
    "        img_path = self.img_dir + f'/{self.img_labels[\"patient_path\"][idx]}'\n",
    "        image = Image.open(img_path)\n",
    "        target = self.img_labels['target'][idx]\n",
    "        if self.transform:\n",
    "            image = self.transform(image)\n",
    "        if self.target_transform:\n",
    "            label = self.target_transform(label)\n",
    "        if self.classification==False:\n",
    "            label = torch.Tensor(self.img_labels.loc[idx, 'label']).to(torch.int64)\n",
    "            bbox = torch.Tensor(self.img_labels.loc[idx, 'bbox']).to(torch.float)\n",
    "            bbox = bbox*self.mult\n",
    "            #print(bbox)\n",
    "            target = {}\n",
    "            #target['bbox'] = bbox\n",
    "            target['boxes'] = bbox\n",
    "            # i hate it here\n",
    "            target['labels'] = label\n",
    "            return image, target\n",
    "        return image, target\n",
    "\n"
   ]
  },
  {
   "cell_type": "code",
   "execution_count": 154,
   "id": "188aa37c-3a2d-43fd-b56c-d180bd6ba083",
   "metadata": {},
   "outputs": [],
   "source": [
    "def collate_fn(batch):\n",
    "    return tuple(zip(*batch))"
   ]
  },
  {
   "cell_type": "code",
   "execution_count": 155,
   "id": "6d62c1d0-e25c-43bd-b9cd-1a66047c7dbc",
   "metadata": {},
   "outputs": [],
   "source": [
    "def adjust_contrast():\n",
    "    def _func(img):\n",
    "        return  transforms.functional.adjust_contrast(img, contrast_factor= 1.1)\n",
    "    return _func"
   ]
  },
  {
   "cell_type": "code",
   "execution_count": 156,
   "id": "14fd1d63-71eb-4108-a35a-764d75e8fbb6",
   "metadata": {},
   "outputs": [],
   "source": [
    "base_transform = transforms.Compose([\n",
    "    # adjust_contrast(),\n",
    "    transforms.ToTensor()\n",
    "])"
   ]
  },
  {
   "cell_type": "code",
   "execution_count": 192,
   "id": "babcbb73-4568-4d80-86db-70afa1f7fd06",
   "metadata": {},
   "outputs": [],
   "source": [
    "train_dataset = ImageDataset(jpg_dir, labels_df = train_set, transform=train_transforms)#, classification=False)\n",
    "val_dataset = ImageDataset(jpg_dir, labels_df = val_set, transform=base_transform)#, classification=False)\n",
    "train_dataset_box = ImageDataset(jpg_dir, labels_df = train_set_box, transform=base_transform, classification=False)\n",
    "val_dataset_box = ImageDataset(jpg_dir, labels_df = val_set_box, transform=base_transform, classification=False)"
   ]
  },
  {
   "cell_type": "code",
   "execution_count": 193,
   "id": "1c859f39-874e-40b0-9cef-3607d67a8b89",
   "metadata": {},
   "outputs": [],
   "source": [
    "BATCH_SIZE=32"
   ]
  },
  {
   "cell_type": "code",
   "execution_count": 194,
   "id": "71e07dbb-987b-4382-905a-d7c5ba08ff81",
   "metadata": {},
   "outputs": [],
   "source": [
    "train_dataloader = DataLoader(train_dataset, batch_size=BATCH_SIZE, shuffle=True)#, collate_fn=collate_fn)\n",
    "val_dataloader = DataLoader(val_dataset, batch_size=BATCH_SIZE, shuffle=True)#, collate_fn=collate_fn)\n",
    "train_dataloader_box = DataLoader(train_dataset_box, batch_size=BATCH_SIZE, shuffle=True, collate_fn=collate_fn)\n",
    "val_dataloader_box = DataLoader(val_dataset_box, batch_size=BATCH_SIZE, shuffle=True, collate_fn=collate_fn)"
   ]
  },
  {
   "cell_type": "code",
   "execution_count": 195,
   "id": "a85b8c5e-1459-4a58-a4d3-53db9716d3d8",
   "metadata": {},
   "outputs": [],
   "source": [
    "train_dataset = ImageDataset(jpg_dir, labels_df = train_set, transform=train_transforms)#, classification=False)\n",
    "train_dataloader = DataLoader(train_dataset, batch_size=BATCH_SIZE, shuffle=True)#, collate_fn=collate_fn)"
   ]
  },
  {
   "cell_type": "code",
   "execution_count": 196,
   "id": "01e04ac7-7f25-4b7b-95ef-a49ac8cdb0a9",
   "metadata": {},
   "outputs": [
    {
     "name": "stdout",
     "output_type": "stream",
     "text": [
      "[INFO] training dataset contains 26684 samples...\n"
     ]
    }
   ],
   "source": [
    "print(\"[INFO] training dataset contains {} samples...\".format(\n",
    "        len(train_dataset)))"
   ]
  },
  {
   "cell_type": "code",
   "execution_count": 197,
   "id": "ff3e5786-34d0-45e3-9f1d-70a37e9068d6",
   "metadata": {},
   "outputs": [
    {
     "name": "stdout",
     "output_type": "stream",
     "text": [
      "[INFO] training dataset contains 6012 samples...\n"
     ]
    }
   ],
   "source": [
    "print(\"[INFO] training dataset contains {} samples...\".format(\n",
    "        len(train_dataset_box)))"
   ]
  },
  {
   "cell_type": "code",
   "execution_count": 163,
   "id": "a3554936-da87-4367-953a-d75b3a6aae6e",
   "metadata": {},
   "outputs": [],
   "source": [
    "import collections\n",
    "collections.Iterable = collections.abc.Iterable"
   ]
  },
  {
   "cell_type": "code",
   "execution_count": 164,
   "id": "eec2f71a-9943-46ea-974e-18e386db97a8",
   "metadata": {},
   "outputs": [
    {
     "name": "stdout",
     "output_type": "stream",
     "text": [
      "tensor(1)\n",
      "tensor([ 64.3125, 123.1562, 111.7812, 148.0938])\n"
     ]
    },
    {
     "data": {
      "image/png": "[encoded data removed]",
      "text/plain": [
       "<Figure size 640x480 with 1 Axes>"
      ]
     },
     "metadata": {},
     "output_type": "display_data"
    },
    {
     "name": "stdout",
     "output_type": "stream",
     "text": [
      "CPU times: total: 1.41 s\n",
      "Wall time: 500 ms\n"
     ]
    }
   ],
   "source": [
    "%%time\n",
    "train_features, target = next(iter(train_dataloader_box))\n",
    "# print(f\"Labels batch shape: {train_labels.size()}\")\n",
    "img = train_features[4].squeeze()\n",
    "label = target[4]['labels'][0]\n",
    "print(label)\n",
    "box = target[4]['boxes']\n",
    "box = box[0]\n",
    "print(box)\n",
    "box2 = box\n",
    "        \n",
    "plt.imshow(cv2.rectangle(cv2.cvtColor(np.array(img), cv2.COLOR_GRAY2BGR), (int(box2[0]), int(box2[1])), (int(box2[2]), int(box2[3])), color = (1,0,0), thickness=4))\n",
    "plt.show()\n",
    "#print(f\"Label: {label}\")"
   ]
  },
  {
   "cell_type": "code",
   "execution_count": null,
   "id": "8d379962-b572-4a4a-a8c7-3aa77cc5634c",
   "metadata": {},
   "outputs": [],
   "source": []
  },
  {
   "cell_type": "code",
   "execution_count": 54,
   "id": "f037e73b-7835-470d-a1ba-613c2844e5a2",
   "metadata": {},
   "outputs": [],
   "source": [
    "class Classifier(nn.Module):\n",
    "    def __init__(self):\n",
    "        super().__init__()\n",
    "        self.conv1 = nn.Conv2d(in_channels = 1, \n",
    "                               out_channels = 32, \n",
    "                               kernel_size = 3,\n",
    "                               padding = 1) # 1 - input channels, 32 - output/filters\n",
    "        self.dropout = nn.Dropout(p=0.2)\n",
    "        self.pool1 = nn.MaxPool2d(2)\n",
    "        self.conv2 = nn.Conv2d(32, 64, 3, padding = 1)\n",
    "        self.pool2 = nn.MaxPool2d(2)\n",
    "        self.conv3 = nn.Conv2d(64, 128, 3, padding = 1)\n",
    "        self.pool3 = nn.MaxPool2d(2)\n",
    "        self.conv4 = nn.Conv2d(128, 128, 3, padding = 1)\n",
    "        self.pool4 = nn.MaxPool2d(2)\n",
    "        self.dense1 = nn.Linear(25088, 128) #112*112*2\n",
    "        self.dense2 = nn.Linear(128, 1)\n",
    "        # self.dense2 = nn.Linear()\n",
    "        # self.dense2 = 2\n",
    "\n",
    "\n",
    "    def forward(self, x):\n",
    "        x = F.relu(self.conv1(x))\n",
    "        x = F.relu(self.pool1(x))\n",
    "        x = F.relu(self.conv2(x))\n",
    "        x = self.dropout(x)\n",
    "        x = F.relu(self.pool2(x))\n",
    "        x = F.relu(self.conv3(x))\n",
    "        x = self.dropout(x)\n",
    "        x = F.relu(self.pool3(x))\n",
    "        x = F.relu(self.conv4(x))\n",
    "        x = F.relu(self.pool4(x))\n",
    "        x = torch.flatten(x, 1) # flatten all dimensions except batch\n",
    "        x = F.relu(self.dense1(x))\n",
    "        x = torch.sigmoid(self.dense2(x))\n",
    "        out=x.flatten(start_dim=1)\n",
    "        #\n",
    "        # x = torch.sigmoid(self.dense2(x))\n",
    "        return out\n"
   ]
  },
  {
   "cell_type": "code",
   "execution_count": 55,
   "id": "d3a44be7-db9f-4889-993b-d858687a0fde",
   "metadata": {},
   "outputs": [],
   "source": [
    "cl = Classifier().cuda()\n",
    "\n",
    "\n",
    "loss_function = nn.BCELoss()\n",
    "optimizer = torch.optim.Adam(cl.parameters(), lr=0.001)"
   ]
  },
  {
   "cell_type": "code",
   "execution_count": 56,
   "id": "4773f7e0-b7fc-41b2-927b-54aee52650a3",
   "metadata": {},
   "outputs": [],
   "source": [
    "# import torch.optim as optim"
   ]
  },
  {
   "cell_type": "code",
   "execution_count": 57,
   "id": "2b3b41d3-dbc2-4c05-b0c3-0b66f656fb3e",
   "metadata": {},
   "outputs": [],
   "source": [
    "\n",
    "\n",
    "\n",
    "loss_function = nn.BCELoss()\n",
    "optimizer = torch.optim.Adam(cl.parameters(), lr=0.001)"
   ]
  },
  {
   "cell_type": "code",
   "execution_count": 58,
   "id": "d3f9af04-e9a4-4938-b421-7b36f2f205a6",
   "metadata": {},
   "outputs": [],
   "source": [
    "\n",
    "torch.cuda.empty_cache()"
   ]
  },
  {
   "cell_type": "code",
   "execution_count": null,
   "id": "cb6aae0b-7cbe-4000-9ab3-85875a1612bb",
   "metadata": {},
   "outputs": [],
   "source": []
  },
  {
   "cell_type": "code",
   "execution_count": 165,
   "id": "c3f9a9b2-4a30-4651-823f-98de572b60b0",
   "metadata": {},
   "outputs": [],
   "source": [
    "def get_accuracy(y_true, y_pred):\n",
    "    y_prob = y_pred > 0.5\n",
    "    return (y_true == y_prob).sum().item()"
   ]
  },
  {
   "cell_type": "code",
   "execution_count": 60,
   "id": "7acf1b76-4f6e-4abf-a00c-294f40a4cbba",
   "metadata": {},
   "outputs": [],
   "source": [
    "def train_cl(cl, train_dataloader, val_dataloader, e):\n",
    "    all_loss = []\n",
    "    all_val_loss = []\n",
    "    for epoch in range(1, e+1):\n",
    "        running_loss = 0\n",
    "        val_running_loss = 0\n",
    "        \n",
    "        with tqdm(train_dataloader, unit=\"batch\") as tepoch:\n",
    "            cl.train()\n",
    "            for data in tepoch:\n",
    "                tepoch.set_description(f\"Epoch {epoch}\")\n",
    "                inputs, labels = data\n",
    "                inputs = inputs.detach().to('cuda')\n",
    "                labels = labels.unsqueeze(1).float().detach().to('cuda')\n",
    "                optimizer.zero_grad()\n",
    "                outputs = cl(inputs)\n",
    "                loss = loss_function(outputs, labels)\n",
    "                loss.backward()\n",
    "                optimizer.step()\n",
    "                #accuracy.append(get_accuracy(labels, outputs))\n",
    "                running_loss += loss.item()\n",
    "                #tepoch.set_postfix()#, accuracy=sum(accuracy)/len(accuracy))\n",
    "        running_loss = running_loss/len(train_dataloader.dataset)\n",
    "        print(f'Epoch: {epoch}, loss: {running_loss}')\n",
    "        all_loss.append(running_loss)\n",
    "        \"\"\"        \n",
    "        with tqdm(val_dataloader, unit=\"batch\") as tepoch:\n",
    "            for data in tepoch:\n",
    "                tepoch.set_description(f\"Epoch {epoch}\")\n",
    "                inputs, labels = data\n",
    "                inputs = inputs.detach().to('cuda')\n",
    "                labels = labels.unsqueeze(1).float().detach().to('cuda')\n",
    "                optimizer.zero_grad()\n",
    "                outputs = cl(inputs)\n",
    "                loss = loss_function(outputs, labels)\n",
    "                loss.backward()\n",
    "                optimizer.step()\n",
    "                #val_accuracy.append(get_accuracy(labels, outputs))\n",
    "                val_running_loss += loss.item()\n",
    "                #tepoch.set_postfix(val_loss=val_running_loss)#, val_accuracy=sum(val_accuracy)/len(val_accuracy))\n",
    "        val_running_loss = val_running_loss/len(val_dataloader.dataset)    \n",
    "        print(f'Epoch: {epoch}, val loss: {val_running_loss}')\n",
    "        all_val_loss.append(val_running_loss)\n",
    "        \"\"\"\n",
    "    return all_loss, all_val_loss"
   ]
  },
  {
   "cell_type": "code",
   "execution_count": 83,
   "id": "537db9cc-5421-4790-adc4-3fdd8797f636",
   "metadata": {
    "scrolled": true
   },
   "outputs": [
    {
     "name": "stderr",
     "output_type": "stream",
     "text": [
      "Epoch 1: 100%|████████████████████████████████████████████████████████████████████████████████████████████████████████████████████████████████████████████████████████████████████████████████| 834/834 [03:03<00:00,  4.55batch/s]\n"
     ]
    },
    {
     "name": "stdout",
     "output_type": "stream",
     "text": [
      "Epoch: 1, loss: 0.014833431208447313\n"
     ]
    },
    {
     "name": "stderr",
     "output_type": "stream",
     "text": [
      "Epoch 2: 100%|████████████████████████████████████████████████████████████████████████████████████████████████████████████████████████████████████████████████████████████████████████████████| 834/834 [01:22<00:00, 10.08batch/s]\n"
     ]
    },
    {
     "name": "stdout",
     "output_type": "stream",
     "text": [
      "Epoch: 2, loss: 0.013863605504213039\n"
     ]
    },
    {
     "name": "stderr",
     "output_type": "stream",
     "text": [
      "Epoch 3: 100%|████████████████████████████████████████████████████████████████████████████████████████████████████████████████████████████████████████████████████████████████████████████████| 834/834 [01:22<00:00, 10.09batch/s]\n"
     ]
    },
    {
     "name": "stdout",
     "output_type": "stream",
     "text": [
      "Epoch: 3, loss: 0.013535103168025258\n"
     ]
    },
    {
     "name": "stderr",
     "output_type": "stream",
     "text": [
      "Epoch 4: 100%|████████████████████████████████████████████████████████████████████████████████████████████████████████████████████████████████████████████████████████████████████████████████| 834/834 [01:21<00:00, 10.18batch/s]\n"
     ]
    },
    {
     "name": "stdout",
     "output_type": "stream",
     "text": [
      "Epoch: 4, loss: 0.013253252018478174\n"
     ]
    },
    {
     "name": "stderr",
     "output_type": "stream",
     "text": [
      "Epoch 5: 100%|████████████████████████████████████████████████████████████████████████████████████████████████████████████████████████████████████████████████████████████████████████████████| 834/834 [01:21<00:00, 10.18batch/s]\n"
     ]
    },
    {
     "name": "stdout",
     "output_type": "stream",
     "text": [
      "Epoch: 5, loss: 0.013052935015536948\n"
     ]
    },
    {
     "name": "stderr",
     "output_type": "stream",
     "text": [
      "Epoch 6: 100%|████████████████████████████████████████████████████████████████████████████████████████████████████████████████████████████████████████████████████████████████████████████████| 834/834 [01:21<00:00, 10.20batch/s]\n"
     ]
    },
    {
     "name": "stdout",
     "output_type": "stream",
     "text": [
      "Epoch: 6, loss: 0.012966954782147258\n"
     ]
    },
    {
     "name": "stderr",
     "output_type": "stream",
     "text": [
      "Epoch 7: 100%|████████████████████████████████████████████████████████████████████████████████████████████████████████████████████████████████████████████████████████████████████████████████| 834/834 [01:21<00:00, 10.19batch/s]\n"
     ]
    },
    {
     "name": "stdout",
     "output_type": "stream",
     "text": [
      "Epoch: 7, loss: 0.01287280932613853\n"
     ]
    },
    {
     "name": "stderr",
     "output_type": "stream",
     "text": [
      "Epoch 8: 100%|████████████████████████████████████████████████████████████████████████████████████████████████████████████████████████████████████████████████████████████████████████████████| 834/834 [01:21<00:00, 10.21batch/s]\n"
     ]
    },
    {
     "name": "stdout",
     "output_type": "stream",
     "text": [
      "Epoch: 8, loss: 0.012901853265754824\n"
     ]
    },
    {
     "name": "stderr",
     "output_type": "stream",
     "text": [
      "Epoch 9: 100%|████████████████████████████████████████████████████████████████████████████████████████████████████████████████████████████████████████████████████████████████████████████████| 834/834 [01:21<00:00, 10.22batch/s]\n"
     ]
    },
    {
     "name": "stdout",
     "output_type": "stream",
     "text": [
      "Epoch: 9, loss: 0.012728192279621537\n"
     ]
    },
    {
     "name": "stderr",
     "output_type": "stream",
     "text": [
      "Epoch 10: 100%|███████████████████████████████████████████████████████████████████████████████████████████████████████████████████████████████████████████████████████████████████████████████| 834/834 [03:18<00:00,  4.20batch/s]\n"
     ]
    },
    {
     "name": "stdout",
     "output_type": "stream",
     "text": [
      "Epoch: 10, loss: 0.012814977564383368\n"
     ]
    },
    {
     "name": "stderr",
     "output_type": "stream",
     "text": [
      "Epoch 11: 100%|███████████████████████████████████████████████████████████████████████████████████████████████████████████████████████████████████████████████████████████████████████████████| 834/834 [01:23<00:00,  9.97batch/s]\n"
     ]
    },
    {
     "name": "stdout",
     "output_type": "stream",
     "text": [
      "Epoch: 11, loss: 0.01262837461931758\n"
     ]
    },
    {
     "name": "stderr",
     "output_type": "stream",
     "text": [
      "Epoch 12: 100%|███████████████████████████████████████████████████████████████████████████████████████████████████████████████████████████████████████████████████████████████████████████████| 834/834 [01:24<00:00,  9.91batch/s]\n"
     ]
    },
    {
     "name": "stdout",
     "output_type": "stream",
     "text": [
      "Epoch: 12, loss: 0.012604774617685083\n"
     ]
    },
    {
     "name": "stderr",
     "output_type": "stream",
     "text": [
      "Epoch 13: 100%|███████████████████████████████████████████████████████████████████████████████████████████████████████████████████████████████████████████████████████████████████████████████| 834/834 [01:24<00:00,  9.88batch/s]\n"
     ]
    },
    {
     "name": "stdout",
     "output_type": "stream",
     "text": [
      "Epoch: 13, loss: 0.012530230033180557\n"
     ]
    },
    {
     "name": "stderr",
     "output_type": "stream",
     "text": [
      "Epoch 14: 100%|███████████████████████████████████████████████████████████████████████████████████████████████████████████████████████████████████████████████████████████████████████████████| 834/834 [01:25<00:00,  9.75batch/s]\n"
     ]
    },
    {
     "name": "stdout",
     "output_type": "stream",
     "text": [
      "Epoch: 14, loss: 0.012469951177872812\n"
     ]
    },
    {
     "name": "stderr",
     "output_type": "stream",
     "text": [
      "Epoch 15: 100%|███████████████████████████████████████████████████████████████████████████████████████████████████████████████████████████████████████████████████████████████████████████████| 834/834 [01:24<00:00,  9.85batch/s]"
     ]
    },
    {
     "name": "stdout",
     "output_type": "stream",
     "text": [
      "Epoch: 15, loss: 0.012380276977113476\n"
     ]
    },
    {
     "name": "stderr",
     "output_type": "stream",
     "text": [
      "\n"
     ]
    }
   ],
   "source": [
    "all_loss, all_val_loss = train_cl(cl, train_dataloader, val_dataloader, 15)"
   ]
  },
  {
   "cell_type": "code",
   "execution_count": 85,
   "id": "e89a8ea5-9534-42eb-b928-5cf0ce0215ce",
   "metadata": {
    "scrolled": true
   },
   "outputs": [
    {
     "data": {
      "text/plain": [
       "<matplotlib.legend.Legend at 0x20155c67700>"
      ]
     },
     "execution_count": 85,
     "metadata": {},
     "output_type": "execute_result"
    },
    {
     "data": {
      "image/png": "[encoded data removed]",
      "text/plain": [
       "<Figure size 640x480 with 1 Axes>"
      ]
     },
     "metadata": {},
     "output_type": "display_data"
    }
   ],
   "source": [
    "fig, ax  = plt.subplots()\n",
    "ax.plot(all_loss, label='Train')\n",
    "ax.set(xlabel='Epoch', ylabel='Loss')\n",
    "ax.legend()"
   ]
  },
  {
   "cell_type": "code",
   "execution_count": 70,
   "id": "38f52d0e-e68b-45fb-9ed7-a06e2512ed49",
   "metadata": {},
   "outputs": [],
   "source": [
    "torch.save(cl.state_dict(), 'cl.pt')"
   ]
  },
  {
   "cell_type": "code",
   "execution_count": 61,
   "id": "ded591f6-7c0f-4b9d-a8d8-a6739f031523",
   "metadata": {},
   "outputs": [
    {
     "data": {
      "text/plain": [
       "<All keys matched successfully>"
      ]
     },
     "execution_count": 61,
     "metadata": {},
     "output_type": "execute_result"
    }
   ],
   "source": [
    "cl.load_state_dict(torch.load('cl.pt'))"
   ]
  },
  {
   "cell_type": "code",
   "execution_count": 62,
   "id": "22382808-efb2-453a-a96d-9ac4d306ff1d",
   "metadata": {},
   "outputs": [
    {
     "data": {
      "text/plain": [
       "True"
      ]
     },
     "execution_count": 62,
     "metadata": {},
     "output_type": "execute_result"
    }
   ],
   "source": [
    "next(cl.parameters()).is_cuda"
   ]
  },
  {
   "cell_type": "code",
   "execution_count": 64,
   "id": "da56b016-58f5-4b72-a781-0efda831d92e",
   "metadata": {
    "scrolled": true
   },
   "outputs": [
    {
     "name": "stderr",
     "output_type": "stream",
     "text": [
      "Epoch 1: 100%|████████████████████████████████████████████████████████████████████████████████████████████████████████████████████████████████████████████████████████████████████████████████| 834/834 [01:25<00:00,  9.80batch/s]\n"
     ]
    },
    {
     "name": "stdout",
     "output_type": "stream",
     "text": [
      "Epoch: 1, loss: 0.011672075623134019\n"
     ]
    },
    {
     "name": "stderr",
     "output_type": "stream",
     "text": [
      "Epoch 2: 100%|████████████████████████████████████████████████████████████████████████████████████████████████████████████████████████████████████████████████████████████████████████████████| 834/834 [01:27<00:00,  9.51batch/s]\n"
     ]
    },
    {
     "name": "stdout",
     "output_type": "stream",
     "text": [
      "Epoch: 2, loss: 0.011646261779090809\n"
     ]
    },
    {
     "name": "stderr",
     "output_type": "stream",
     "text": [
      "Epoch 3: 100%|████████████████████████████████████████████████████████████████████████████████████████████████████████████████████████████████████████████████████████████████████████████████| 834/834 [01:25<00:00,  9.77batch/s]\n"
     ]
    },
    {
     "name": "stdout",
     "output_type": "stream",
     "text": [
      "Epoch: 3, loss: 0.011605030406791934\n"
     ]
    },
    {
     "name": "stderr",
     "output_type": "stream",
     "text": [
      "Epoch 4: 100%|████████████████████████████████████████████████████████████████████████████████████████████████████████████████████████████████████████████████████████████████████████████████| 834/834 [01:24<00:00,  9.81batch/s]\n"
     ]
    },
    {
     "name": "stdout",
     "output_type": "stream",
     "text": [
      "Epoch: 4, loss: 0.011539288860843593\n"
     ]
    },
    {
     "name": "stderr",
     "output_type": "stream",
     "text": [
      "Epoch 5: 100%|████████████████████████████████████████████████████████████████████████████████████████████████████████████████████████████████████████████████████████████████████████████████| 834/834 [01:23<00:00,  9.96batch/s]\n"
     ]
    },
    {
     "name": "stdout",
     "output_type": "stream",
     "text": [
      "Epoch: 5, loss: 0.011487975796167237\n"
     ]
    },
    {
     "name": "stderr",
     "output_type": "stream",
     "text": [
      "Epoch 6: 100%|████████████████████████████████████████████████████████████████████████████████████████████████████████████████████████████████████████████████████████████████████████████████| 834/834 [01:27<00:00,  9.49batch/s]\n"
     ]
    },
    {
     "name": "stdout",
     "output_type": "stream",
     "text": [
      "Epoch: 6, loss: 0.011471786306900987\n"
     ]
    },
    {
     "name": "stderr",
     "output_type": "stream",
     "text": [
      "Epoch 7: 100%|████████████████████████████████████████████████████████████████████████████████████████████████████████████████████████████████████████████████████████████████████████████████| 834/834 [01:27<00:00,  9.56batch/s]\n"
     ]
    },
    {
     "name": "stdout",
     "output_type": "stream",
     "text": [
      "Epoch: 7, loss: 0.011458528382928988\n"
     ]
    },
    {
     "name": "stderr",
     "output_type": "stream",
     "text": [
      "Epoch 8: 100%|████████████████████████████████████████████████████████████████████████████████████████████████████████████████████████████████████████████████████████████████████████████████| 834/834 [01:27<00:00,  9.57batch/s]\n"
     ]
    },
    {
     "name": "stdout",
     "output_type": "stream",
     "text": [
      "Epoch: 8, loss: 0.011298255862567918\n"
     ]
    },
    {
     "name": "stderr",
     "output_type": "stream",
     "text": [
      "Epoch 9: 100%|████████████████████████████████████████████████████████████████████████████████████████████████████████████████████████████████████████████████████████████████████████████████| 834/834 [01:27<00:00,  9.52batch/s]\n"
     ]
    },
    {
     "name": "stdout",
     "output_type": "stream",
     "text": [
      "Epoch: 9, loss: 0.011279272626157895\n"
     ]
    },
    {
     "name": "stderr",
     "output_type": "stream",
     "text": [
      "Epoch 10: 100%|███████████████████████████████████████████████████████████████████████████████████████████████████████████████████████████████████████████████████████████████████████████████| 834/834 [01:25<00:00,  9.74batch/s]\n"
     ]
    },
    {
     "name": "stdout",
     "output_type": "stream",
     "text": [
      "Epoch: 10, loss: 0.011267608932658232\n"
     ]
    },
    {
     "name": "stderr",
     "output_type": "stream",
     "text": [
      "Epoch 11: 100%|███████████████████████████████████████████████████████████████████████████████████████████████████████████████████████████████████████████████████████████████████████████████| 834/834 [01:24<00:00,  9.87batch/s]\n"
     ]
    },
    {
     "name": "stdout",
     "output_type": "stream",
     "text": [
      "Epoch: 11, loss: 0.011231036721909534\n"
     ]
    },
    {
     "name": "stderr",
     "output_type": "stream",
     "text": [
      "Epoch 12: 100%|███████████████████████████████████████████████████████████████████████████████████████████████████████████████████████████████████████████████████████████████████████████████| 834/834 [01:27<00:00,  9.56batch/s]\n"
     ]
    },
    {
     "name": "stdout",
     "output_type": "stream",
     "text": [
      "Epoch: 12, loss: 0.011190839814869043\n"
     ]
    },
    {
     "name": "stderr",
     "output_type": "stream",
     "text": [
      "Epoch 13: 100%|███████████████████████████████████████████████████████████████████████████████████████████████████████████████████████████████████████████████████████████████████████████████| 834/834 [01:25<00:00,  9.77batch/s]\n"
     ]
    },
    {
     "name": "stdout",
     "output_type": "stream",
     "text": [
      "Epoch: 13, loss: 0.01112225137929065\n"
     ]
    },
    {
     "name": "stderr",
     "output_type": "stream",
     "text": [
      "Epoch 14: 100%|███████████████████████████████████████████████████████████████████████████████████████████████████████████████████████████████████████████████████████████████████████████████| 834/834 [01:24<00:00,  9.86batch/s]\n"
     ]
    },
    {
     "name": "stdout",
     "output_type": "stream",
     "text": [
      "Epoch: 14, loss: 0.011111695649725818\n"
     ]
    },
    {
     "name": "stderr",
     "output_type": "stream",
     "text": [
      "Epoch 15: 100%|███████████████████████████████████████████████████████████████████████████████████████████████████████████████████████████████████████████████████████████████████████████████| 834/834 [01:27<00:00,  9.54batch/s]"
     ]
    },
    {
     "name": "stdout",
     "output_type": "stream",
     "text": [
      "Epoch: 15, loss: 0.010979502354492366\n"
     ]
    },
    {
     "name": "stderr",
     "output_type": "stream",
     "text": [
      "\n"
     ]
    }
   ],
   "source": [
    "all_loss, all_val_loss = train_cl(cl, train_dataloader, val_dataloader, 15)"
   ]
  },
  {
   "cell_type": "code",
   "execution_count": 65,
   "id": "6de1e7d9-8c36-47fa-81f4-07028c7ac31c",
   "metadata": {
    "scrolled": true
   },
   "outputs": [
    {
     "data": {
      "text/plain": [
       "<matplotlib.legend.Legend at 0x25e97063670>"
      ]
     },
     "execution_count": 65,
     "metadata": {},
     "output_type": "execute_result"
    },
    {
     "data": {
      "image/png": "[encoded data removed]",
      "text/plain": [
       "<Figure size 640x480 with 1 Axes>"
      ]
     },
     "metadata": {},
     "output_type": "display_data"
    }
   ],
   "source": [
    "fig, ax  = plt.subplots()\n",
    "ax.plot(all_loss, label='Train')\n",
    "ax.set(xlabel='Epoch', ylabel='Loss')\n",
    "ax.legend()"
   ]
  },
  {
   "cell_type": "code",
   "execution_count": 66,
   "id": "18e22b4c-9ec0-499d-9f47-77eb26101ecb",
   "metadata": {},
   "outputs": [
    {
     "name": "stderr",
     "output_type": "stream",
     "text": [
      "Epoch 1: 100%|███████████████████████████████████████████████████████| 834/834 [03:07<00:00,  4.44batch/s]\n"
     ]
    },
    {
     "name": "stdout",
     "output_type": "stream",
     "text": [
      "Epoch: 1, loss: 0.010965890349244235\n"
     ]
    },
    {
     "name": "stderr",
     "output_type": "stream",
     "text": [
      "Epoch 2: 100%|███████████████████████████████████████████████████████| 834/834 [01:24<00:00,  9.89batch/s]\n"
     ]
    },
    {
     "name": "stdout",
     "output_type": "stream",
     "text": [
      "Epoch: 2, loss: 0.01096363638499351\n"
     ]
    },
    {
     "name": "stderr",
     "output_type": "stream",
     "text": [
      "Epoch 3: 100%|███████████████████████████████████████████████████████| 834/834 [01:24<00:00,  9.90batch/s]\n"
     ]
    },
    {
     "name": "stdout",
     "output_type": "stream",
     "text": [
      "Epoch: 3, loss: 0.010873401710930266\n"
     ]
    },
    {
     "name": "stderr",
     "output_type": "stream",
     "text": [
      "Epoch 4: 100%|███████████████████████████████████████████████████████| 834/834 [01:24<00:00,  9.88batch/s]\n"
     ]
    },
    {
     "name": "stdout",
     "output_type": "stream",
     "text": [
      "Epoch: 4, loss: 0.010853981087689295\n"
     ]
    },
    {
     "name": "stderr",
     "output_type": "stream",
     "text": [
      "Epoch 5: 100%|███████████████████████████████████████████████████████| 834/834 [01:24<00:00,  9.90batch/s]\n"
     ]
    },
    {
     "name": "stdout",
     "output_type": "stream",
     "text": [
      "Epoch: 5, loss: 0.010766108517955668\n"
     ]
    },
    {
     "name": "stderr",
     "output_type": "stream",
     "text": [
      "Epoch 6: 100%|███████████████████████████████████████████████████████| 834/834 [01:25<00:00,  9.80batch/s]\n"
     ]
    },
    {
     "name": "stdout",
     "output_type": "stream",
     "text": [
      "Epoch: 6, loss: 0.010658020290177974\n"
     ]
    },
    {
     "name": "stderr",
     "output_type": "stream",
     "text": [
      "Epoch 7: 100%|███████████████████████████████████████████████████████| 834/834 [01:26<00:00,  9.64batch/s]\n"
     ]
    },
    {
     "name": "stdout",
     "output_type": "stream",
     "text": [
      "Epoch: 7, loss: 0.010645741245285929\n"
     ]
    },
    {
     "name": "stderr",
     "output_type": "stream",
     "text": [
      "Epoch 8: 100%|███████████████████████████████████████████████████████| 834/834 [01:23<00:00,  9.97batch/s]\n"
     ]
    },
    {
     "name": "stdout",
     "output_type": "stream",
     "text": [
      "Epoch: 8, loss: 0.010596181165631914\n"
     ]
    },
    {
     "name": "stderr",
     "output_type": "stream",
     "text": [
      "Epoch 9: 100%|███████████████████████████████████████████████████████| 834/834 [01:23<00:00, 10.05batch/s]\n"
     ]
    },
    {
     "name": "stdout",
     "output_type": "stream",
     "text": [
      "Epoch: 9, loss: 0.01058510655802223\n"
     ]
    },
    {
     "name": "stderr",
     "output_type": "stream",
     "text": [
      "Epoch 10: 100%|██████████████████████████████████████████████████████| 834/834 [01:26<00:00,  9.63batch/s]\n"
     ]
    },
    {
     "name": "stdout",
     "output_type": "stream",
     "text": [
      "Epoch: 10, loss: 0.010513517546579587\n"
     ]
    },
    {
     "name": "stderr",
     "output_type": "stream",
     "text": [
      "Epoch 11: 100%|██████████████████████████████████████████████████████| 834/834 [01:24<00:00,  9.83batch/s]\n"
     ]
    },
    {
     "name": "stdout",
     "output_type": "stream",
     "text": [
      "Epoch: 11, loss: 0.010503514450511963\n"
     ]
    },
    {
     "name": "stderr",
     "output_type": "stream",
     "text": [
      "Epoch 12: 100%|██████████████████████████████████████████████████████| 834/834 [01:24<00:00,  9.86batch/s]\n"
     ]
    },
    {
     "name": "stdout",
     "output_type": "stream",
     "text": [
      "Epoch: 12, loss: 0.010491488332504312\n"
     ]
    },
    {
     "name": "stderr",
     "output_type": "stream",
     "text": [
      "Epoch 13: 100%|██████████████████████████████████████████████████████| 834/834 [01:24<00:00,  9.85batch/s]\n"
     ]
    },
    {
     "name": "stdout",
     "output_type": "stream",
     "text": [
      "Epoch: 13, loss: 0.010387966623762937\n"
     ]
    },
    {
     "name": "stderr",
     "output_type": "stream",
     "text": [
      "Epoch 14: 100%|██████████████████████████████████████████████████████| 834/834 [01:25<00:00,  9.72batch/s]\n"
     ]
    },
    {
     "name": "stdout",
     "output_type": "stream",
     "text": [
      "Epoch: 14, loss: 0.010272921829033051\n"
     ]
    },
    {
     "name": "stderr",
     "output_type": "stream",
     "text": [
      "Epoch 15: 100%|██████████████████████████████████████████████████████| 834/834 [01:25<00:00,  9.81batch/s]\n"
     ]
    },
    {
     "name": "stdout",
     "output_type": "stream",
     "text": [
      "Epoch: 15, loss: 0.010280569399362328\n"
     ]
    },
    {
     "name": "stderr",
     "output_type": "stream",
     "text": [
      "Epoch 16: 100%|██████████████████████████████████████████████████████| 834/834 [01:23<00:00,  9.97batch/s]\n"
     ]
    },
    {
     "name": "stdout",
     "output_type": "stream",
     "text": [
      "Epoch: 16, loss: 0.010192172249728567\n"
     ]
    },
    {
     "name": "stderr",
     "output_type": "stream",
     "text": [
      "Epoch 17: 100%|██████████████████████████████████████████████████████| 834/834 [01:25<00:00,  9.72batch/s]\n"
     ]
    },
    {
     "name": "stdout",
     "output_type": "stream",
     "text": [
      "Epoch: 17, loss: 0.010177371859563878\n"
     ]
    },
    {
     "name": "stderr",
     "output_type": "stream",
     "text": [
      "Epoch 18: 100%|██████████████████████████████████████████████████████| 834/834 [01:25<00:00,  9.74batch/s]\n"
     ]
    },
    {
     "name": "stdout",
     "output_type": "stream",
     "text": [
      "Epoch: 18, loss: 0.010186664111495661\n"
     ]
    },
    {
     "name": "stderr",
     "output_type": "stream",
     "text": [
      "Epoch 19: 100%|██████████████████████████████████████████████████████| 834/834 [01:25<00:00,  9.73batch/s]\n"
     ]
    },
    {
     "name": "stdout",
     "output_type": "stream",
     "text": [
      "Epoch: 19, loss: 0.010197192540507037\n"
     ]
    },
    {
     "name": "stderr",
     "output_type": "stream",
     "text": [
      "Epoch 20: 100%|██████████████████████████████████████████████████████| 834/834 [01:24<00:00,  9.84batch/s]\n"
     ]
    },
    {
     "name": "stdout",
     "output_type": "stream",
     "text": [
      "Epoch: 20, loss: 0.010079402836736863\n"
     ]
    },
    {
     "name": "stderr",
     "output_type": "stream",
     "text": [
      "Epoch 21: 100%|██████████████████████████████████████████████████████| 834/834 [01:26<00:00,  9.68batch/s]\n"
     ]
    },
    {
     "name": "stdout",
     "output_type": "stream",
     "text": [
      "Epoch: 21, loss: 0.010025425953979017\n"
     ]
    },
    {
     "name": "stderr",
     "output_type": "stream",
     "text": [
      "Epoch 22: 100%|██████████████████████████████████████████████████████| 834/834 [01:25<00:00,  9.78batch/s]\n"
     ]
    },
    {
     "name": "stdout",
     "output_type": "stream",
     "text": [
      "Epoch: 22, loss: 0.0099557404911888\n"
     ]
    },
    {
     "name": "stderr",
     "output_type": "stream",
     "text": [
      "Epoch 23: 100%|██████████████████████████████████████████████████████| 834/834 [01:24<00:00,  9.84batch/s]\n"
     ]
    },
    {
     "name": "stdout",
     "output_type": "stream",
     "text": [
      "Epoch: 23, loss: 0.010002589326509917\n"
     ]
    },
    {
     "name": "stderr",
     "output_type": "stream",
     "text": [
      "Epoch 24: 100%|██████████████████████████████████████████████████████| 834/834 [01:24<00:00,  9.83batch/s]\n"
     ]
    },
    {
     "name": "stdout",
     "output_type": "stream",
     "text": [
      "Epoch: 24, loss: 0.009863099800050035\n"
     ]
    },
    {
     "name": "stderr",
     "output_type": "stream",
     "text": [
      "Epoch 25: 100%|██████████████████████████████████████████████████████| 834/834 [01:24<00:00,  9.83batch/s]"
     ]
    },
    {
     "name": "stdout",
     "output_type": "stream",
     "text": [
      "Epoch: 25, loss: 0.00993603353183803\n"
     ]
    },
    {
     "name": "stderr",
     "output_type": "stream",
     "text": [
      "\n"
     ]
    },
    {
     "data": {
      "text/plain": [
       "<matplotlib.legend.Legend at 0x20fd39fbca0>"
      ]
     },
     "execution_count": 66,
     "metadata": {},
     "output_type": "execute_result"
    },
    {
     "data": {
      "image/png": "[encoded data removed]",
      "text/plain": [
       "<Figure size 640x480 with 1 Axes>"
      ]
     },
     "metadata": {},
     "output_type": "display_data"
    }
   ],
   "source": [
    "all_loss, all_val_loss = train_cl(cl, train_dataloader, val_dataloader, 25)\n",
    "fig, ax  = plt.subplots()\n",
    "ax.plot(all_loss, label='Train')\n",
    "ax.set(xlabel='Epoch', ylabel='Loss')\n",
    "ax.legend()"
   ]
  },
  {
   "cell_type": "code",
   "execution_count": 98,
   "id": "e645630c-24b5-424d-aefc-9f7ed06fdb11",
   "metadata": {},
   "outputs": [
    {
     "name": "stderr",
     "output_type": "stream",
     "text": [
      "Epoch 1: 100%|███████████████████████████████████████████████████████| 834/834 [01:25<00:00,  9.74batch/s]\n"
     ]
    },
    {
     "name": "stdout",
     "output_type": "stream",
     "text": [
      "Epoch: 1, loss: 0.010750522078973316\n"
     ]
    },
    {
     "name": "stderr",
     "output_type": "stream",
     "text": [
      "Epoch 2: 100%|███████████████████████████████████████████████████████| 834/834 [01:25<00:00,  9.70batch/s]\n"
     ]
    },
    {
     "name": "stdout",
     "output_type": "stream",
     "text": [
      "Epoch: 2, loss: 0.010630288095582177\n"
     ]
    },
    {
     "name": "stderr",
     "output_type": "stream",
     "text": [
      "Epoch 3: 100%|███████████████████████████████████████████████████████| 834/834 [01:24<00:00,  9.87batch/s]\n"
     ]
    },
    {
     "name": "stdout",
     "output_type": "stream",
     "text": [
      "Epoch: 3, loss: 0.010560574986988808\n"
     ]
    },
    {
     "name": "stderr",
     "output_type": "stream",
     "text": [
      "Epoch 4: 100%|███████████████████████████████████████████████████████| 834/834 [01:26<00:00,  9.67batch/s]\n"
     ]
    },
    {
     "name": "stdout",
     "output_type": "stream",
     "text": [
      "Epoch: 4, loss: 0.01053704557712245\n"
     ]
    },
    {
     "name": "stderr",
     "output_type": "stream",
     "text": [
      "Epoch 5: 100%|███████████████████████████████████████████████████████| 834/834 [01:26<00:00,  9.66batch/s]\n"
     ]
    },
    {
     "name": "stdout",
     "output_type": "stream",
     "text": [
      "Epoch: 5, loss: 0.010487616413696348\n"
     ]
    },
    {
     "name": "stderr",
     "output_type": "stream",
     "text": [
      "Epoch 6: 100%|███████████████████████████████████████████████████████| 834/834 [01:23<00:00, 10.03batch/s]\n"
     ]
    },
    {
     "name": "stdout",
     "output_type": "stream",
     "text": [
      "Epoch: 6, loss: 0.010470301844877669\n"
     ]
    },
    {
     "name": "stderr",
     "output_type": "stream",
     "text": [
      "Epoch 7: 100%|███████████████████████████████████████████████████████| 834/834 [01:26<00:00,  9.63batch/s]\n"
     ]
    },
    {
     "name": "stdout",
     "output_type": "stream",
     "text": [
      "Epoch: 7, loss: 0.010452744260200262\n"
     ]
    },
    {
     "name": "stderr",
     "output_type": "stream",
     "text": [
      "Epoch 8: 100%|███████████████████████████████████████████████████████| 834/834 [01:24<00:00,  9.85batch/s]\n"
     ]
    },
    {
     "name": "stdout",
     "output_type": "stream",
     "text": [
      "Epoch: 8, loss: 0.010377696052857058\n"
     ]
    },
    {
     "name": "stderr",
     "output_type": "stream",
     "text": [
      "Epoch 9: 100%|███████████████████████████████████████████████████████| 834/834 [01:24<00:00,  9.84batch/s]\n"
     ]
    },
    {
     "name": "stdout",
     "output_type": "stream",
     "text": [
      "Epoch: 9, loss: 0.010230820995143036\n"
     ]
    },
    {
     "name": "stderr",
     "output_type": "stream",
     "text": [
      "Epoch 10: 100%|██████████████████████████████████████████████████████| 834/834 [01:25<00:00,  9.80batch/s]\n"
     ]
    },
    {
     "name": "stdout",
     "output_type": "stream",
     "text": [
      "Epoch: 10, loss: 0.010334017204759878\n"
     ]
    },
    {
     "name": "stderr",
     "output_type": "stream",
     "text": [
      "Epoch 11: 100%|██████████████████████████████████████████████████████| 834/834 [01:24<00:00,  9.83batch/s]\n"
     ]
    },
    {
     "name": "stdout",
     "output_type": "stream",
     "text": [
      "Epoch: 11, loss: 0.010257846867773705\n"
     ]
    },
    {
     "name": "stderr",
     "output_type": "stream",
     "text": [
      "Epoch 12: 100%|██████████████████████████████████████████████████████| 834/834 [01:24<00:00,  9.87batch/s]\n"
     ]
    },
    {
     "name": "stdout",
     "output_type": "stream",
     "text": [
      "Epoch: 12, loss: 0.010169168389756235\n"
     ]
    },
    {
     "name": "stderr",
     "output_type": "stream",
     "text": [
      "Epoch 13: 100%|██████████████████████████████████████████████████████| 834/834 [01:26<00:00,  9.63batch/s]\n"
     ]
    },
    {
     "name": "stdout",
     "output_type": "stream",
     "text": [
      "Epoch: 13, loss: 0.010199838419146238\n"
     ]
    },
    {
     "name": "stderr",
     "output_type": "stream",
     "text": [
      "Epoch 14: 100%|██████████████████████████████████████████████████████| 834/834 [01:22<00:00, 10.08batch/s]\n"
     ]
    },
    {
     "name": "stdout",
     "output_type": "stream",
     "text": [
      "Epoch: 14, loss: 0.010156510310955909\n"
     ]
    },
    {
     "name": "stderr",
     "output_type": "stream",
     "text": [
      "Epoch 15: 100%|██████████████████████████████████████████████████████| 834/834 [01:23<00:00,  9.99batch/s]\n"
     ]
    },
    {
     "name": "stdout",
     "output_type": "stream",
     "text": [
      "Epoch: 15, loss: 0.010085447427941359\n"
     ]
    },
    {
     "name": "stderr",
     "output_type": "stream",
     "text": [
      "Epoch 16: 100%|██████████████████████████████████████████████████████| 834/834 [01:26<00:00,  9.69batch/s]\n"
     ]
    },
    {
     "name": "stdout",
     "output_type": "stream",
     "text": [
      "Epoch: 16, loss: 0.009969861716704378\n"
     ]
    },
    {
     "name": "stderr",
     "output_type": "stream",
     "text": [
      "Epoch 17: 100%|██████████████████████████████████████████████████████| 834/834 [01:26<00:00,  9.69batch/s]\n"
     ]
    },
    {
     "name": "stdout",
     "output_type": "stream",
     "text": [
      "Epoch: 17, loss: 0.009963175182481646\n"
     ]
    },
    {
     "name": "stderr",
     "output_type": "stream",
     "text": [
      "Epoch 18: 100%|██████████████████████████████████████████████████████| 834/834 [01:26<00:00,  9.64batch/s]\n"
     ]
    },
    {
     "name": "stdout",
     "output_type": "stream",
     "text": [
      "Epoch: 18, loss: 0.009924126091494033\n"
     ]
    },
    {
     "name": "stderr",
     "output_type": "stream",
     "text": [
      "Epoch 19: 100%|██████████████████████████████████████████████████████| 834/834 [01:25<00:00,  9.79batch/s]\n"
     ]
    },
    {
     "name": "stdout",
     "output_type": "stream",
     "text": [
      "Epoch: 19, loss: 0.009903746234201953\n"
     ]
    },
    {
     "name": "stderr",
     "output_type": "stream",
     "text": [
      "Epoch 20: 100%|██████████████████████████████████████████████████████| 834/834 [01:25<00:00,  9.79batch/s]\n"
     ]
    },
    {
     "name": "stdout",
     "output_type": "stream",
     "text": [
      "Epoch: 20, loss: 0.009907196466454304\n"
     ]
    },
    {
     "name": "stderr",
     "output_type": "stream",
     "text": [
      "Epoch 21: 100%|██████████████████████████████████████████████████████| 834/834 [01:24<00:00,  9.83batch/s]\n"
     ]
    },
    {
     "name": "stdout",
     "output_type": "stream",
     "text": [
      "Epoch: 21, loss: 0.009832488213490018\n"
     ]
    },
    {
     "name": "stderr",
     "output_type": "stream",
     "text": [
      "Epoch 22: 100%|██████████████████████████████████████████████████████| 834/834 [01:25<00:00,  9.77batch/s]\n"
     ]
    },
    {
     "name": "stdout",
     "output_type": "stream",
     "text": [
      "Epoch: 22, loss: 0.009904534822761825\n"
     ]
    },
    {
     "name": "stderr",
     "output_type": "stream",
     "text": [
      "Epoch 23: 100%|██████████████████████████████████████████████████████| 834/834 [01:25<00:00,  9.81batch/s]\n"
     ]
    },
    {
     "name": "stdout",
     "output_type": "stream",
     "text": [
      "Epoch: 23, loss: 0.009808534978278983\n"
     ]
    },
    {
     "name": "stderr",
     "output_type": "stream",
     "text": [
      "Epoch 24: 100%|██████████████████████████████████████████████████████| 834/834 [01:26<00:00,  9.70batch/s]\n"
     ]
    },
    {
     "name": "stdout",
     "output_type": "stream",
     "text": [
      "Epoch: 24, loss: 0.009686285250135724\n"
     ]
    },
    {
     "name": "stderr",
     "output_type": "stream",
     "text": [
      "Epoch 25: 100%|██████████████████████████████████████████████████████| 834/834 [01:25<00:00,  9.80batch/s]"
     ]
    },
    {
     "name": "stdout",
     "output_type": "stream",
     "text": [
      "Epoch: 25, loss: 0.009732358186952339\n"
     ]
    },
    {
     "name": "stderr",
     "output_type": "stream",
     "text": [
      "\n"
     ]
    },
    {
     "data": {
      "text/plain": [
       "<matplotlib.legend.Legend at 0x2104971ee30>"
      ]
     },
     "execution_count": 98,
     "metadata": {},
     "output_type": "execute_result"
    },
    {
     "data": {
      "image/png": "[encoded data removed]",
      "text/plain": [
       "<Figure size 640x480 with 1 Axes>"
      ]
     },
     "metadata": {},
     "output_type": "display_data"
    }
   ],
   "source": [
    "\n",
    "optimizer = torch.optim.Adam(cl.parameters(), lr=0.0005)\n",
    "all_loss, all_val_loss = train_cl(cl, train_dataloader, val_dataloader, 25)\n",
    "fig, ax  = plt.subplots()\n",
    "ax.plot(all_loss, label='Train')\n",
    "ax.set(xlabel='Epoch', ylabel='Loss')\n",
    "ax.legend()"
   ]
  },
  {
   "cell_type": "code",
   "execution_count": 67,
   "id": "d59f9644-b37c-45e0-8d9a-f8f4750e93c7",
   "metadata": {},
   "outputs": [
    {
     "name": "stderr",
     "output_type": "stream",
     "text": [
      "Epoch 1: 100%|███████████████████████████████████████████████████████| 834/834 [00:43<00:00, 19.10batch/s]"
     ]
    },
    {
     "name": "stdout",
     "output_type": "stream",
     "text": [
      "0.8484859841103283\n"
     ]
    },
    {
     "name": "stderr",
     "output_type": "stream",
     "text": [
      "\n"
     ]
    }
   ],
   "source": [
    "cl.eval()\n",
    "accuracy = 0\n",
    "epoch = 1\n",
    "with tqdm(train_dataloader, unit=\"batch\") as tepoch:\n",
    "        for data in tepoch:\n",
    "            tepoch.set_description(f\"Epoch {epoch}\")\n",
    "            inputs, labels = data\n",
    "            inputs = inputs.detach().to('cuda')\n",
    "            labels = labels.unsqueeze(1).float().detach().to('cuda')\n",
    "            outputs = cl(inputs)\n",
    "            #print(labels)\n",
    "            #print(outputs)\n",
    "            accuracy += (get_accuracy(labels, outputs))\n",
    "print(accuracy/len(train_dataloader.dataset))"
   ]
  },
  {
   "cell_type": "code",
   "execution_count": 99,
   "id": "fbfcb632-7449-4943-815c-5fabdf7c2ef8",
   "metadata": {},
   "outputs": [
    {
     "name": "stderr",
     "output_type": "stream",
     "text": [
      "Epoch 1: 100%|███████████████████████████████████████████████████████| 834/834 [00:45<00:00, 18.48batch/s]"
     ]
    },
    {
     "name": "stdout",
     "output_type": "stream",
     "text": [
      "0.8450382251536501\n"
     ]
    },
    {
     "name": "stderr",
     "output_type": "stream",
     "text": [
      "\n"
     ]
    }
   ],
   "source": [
    "cl.eval()\n",
    "accuracy = 0\n",
    "epoch = 1\n",
    "with tqdm(train_dataloader, unit=\"batch\") as tepoch:\n",
    "        for data in tepoch:\n",
    "            tepoch.set_description(f\"Epoch {epoch}\")\n",
    "            inputs, labels = data\n",
    "            inputs = inputs.detach().to('cuda')\n",
    "            labels = labels.unsqueeze(1).float().detach().to('cuda')\n",
    "            outputs = cl(inputs)\n",
    "            #print(labels)\n",
    "            #print(outputs)\n",
    "            accuracy += (get_accuracy(labels, outputs))\n",
    "print(accuracy/len(train_dataloader.dataset))"
   ]
  },
  {
   "cell_type": "code",
   "execution_count": 112,
   "id": "cb755343-22c2-47c4-9dc8-287772867448",
   "metadata": {},
   "outputs": [],
   "source": [
    "torch.save(cl.state_dict(), 'cl.pt')"
   ]
  },
  {
   "cell_type": "code",
   "execution_count": 166,
   "id": "5d1b7c36-3864-4c8b-9861-8083294b7d6d",
   "metadata": {},
   "outputs": [
    {
     "name": "stderr",
     "output_type": "stream",
     "text": [
      "Epoch 1: 100%|███████████████████████████████████████████████████████| 834/834 [03:48<00:00,  3.66batch/s]\n"
     ]
    },
    {
     "name": "stdout",
     "output_type": "stream",
     "text": [
      "Epoch: 1, loss: 0.009709358223429275\n"
     ]
    },
    {
     "name": "stderr",
     "output_type": "stream",
     "text": [
      "Epoch 2: 100%|███████████████████████████████████████████████████████| 834/834 [01:37<00:00,  8.52batch/s]\n"
     ]
    },
    {
     "name": "stdout",
     "output_type": "stream",
     "text": [
      "Epoch: 2, loss: 0.009692378908400235\n"
     ]
    },
    {
     "name": "stderr",
     "output_type": "stream",
     "text": [
      "Epoch 3: 100%|███████████████████████████████████████████████████████| 834/834 [01:37<00:00,  8.59batch/s]\n"
     ]
    },
    {
     "name": "stdout",
     "output_type": "stream",
     "text": [
      "Epoch: 3, loss: 0.009592866795055156\n"
     ]
    },
    {
     "name": "stderr",
     "output_type": "stream",
     "text": [
      "Epoch 4: 100%|███████████████████████████████████████████████████████| 834/834 [01:38<00:00,  8.49batch/s]\n"
     ]
    },
    {
     "name": "stdout",
     "output_type": "stream",
     "text": [
      "Epoch: 4, loss: 0.009599627510356486\n"
     ]
    },
    {
     "name": "stderr",
     "output_type": "stream",
     "text": [
      "Epoch 5: 100%|███████████████████████████████████████████████████████| 834/834 [01:37<00:00,  8.52batch/s]\n"
     ]
    },
    {
     "name": "stdout",
     "output_type": "stream",
     "text": [
      "Epoch: 5, loss: 0.009475008522991994\n"
     ]
    },
    {
     "name": "stderr",
     "output_type": "stream",
     "text": [
      "Epoch 6: 100%|███████████████████████████████████████████████████████| 834/834 [01:37<00:00,  8.56batch/s]\n"
     ]
    },
    {
     "name": "stdout",
     "output_type": "stream",
     "text": [
      "Epoch: 6, loss: 0.009531154148610095\n"
     ]
    },
    {
     "name": "stderr",
     "output_type": "stream",
     "text": [
      "Epoch 7: 100%|███████████████████████████████████████████████████████| 834/834 [01:37<00:00,  8.53batch/s]\n"
     ]
    },
    {
     "name": "stdout",
     "output_type": "stream",
     "text": [
      "Epoch: 7, loss: 0.009475771080869513\n"
     ]
    },
    {
     "name": "stderr",
     "output_type": "stream",
     "text": [
      "Epoch 8: 100%|███████████████████████████████████████████████████████| 834/834 [01:37<00:00,  8.53batch/s]\n"
     ]
    },
    {
     "name": "stdout",
     "output_type": "stream",
     "text": [
      "Epoch: 8, loss: 0.009426062531839637\n"
     ]
    },
    {
     "name": "stderr",
     "output_type": "stream",
     "text": [
      "Epoch 9: 100%|███████████████████████████████████████████████████████| 834/834 [01:37<00:00,  8.51batch/s]\n"
     ]
    },
    {
     "name": "stdout",
     "output_type": "stream",
     "text": [
      "Epoch: 9, loss: 0.009349455502430926\n"
     ]
    },
    {
     "name": "stderr",
     "output_type": "stream",
     "text": [
      "Epoch 10: 100%|██████████████████████████████████████████████████████| 834/834 [01:37<00:00,  8.52batch/s]\n"
     ]
    },
    {
     "name": "stdout",
     "output_type": "stream",
     "text": [
      "Epoch: 10, loss: 0.009336904988246797\n"
     ]
    },
    {
     "name": "stderr",
     "output_type": "stream",
     "text": [
      "Epoch 11: 100%|██████████████████████████████████████████████████████| 834/834 [01:37<00:00,  8.51batch/s]\n"
     ]
    },
    {
     "name": "stdout",
     "output_type": "stream",
     "text": [
      "Epoch: 11, loss: 0.009341253420044021\n"
     ]
    },
    {
     "name": "stderr",
     "output_type": "stream",
     "text": [
      "Epoch 12: 100%|██████████████████████████████████████████████████████| 834/834 [01:38<00:00,  8.49batch/s]\n"
     ]
    },
    {
     "name": "stdout",
     "output_type": "stream",
     "text": [
      "Epoch: 12, loss: 0.009342836345927216\n"
     ]
    },
    {
     "name": "stderr",
     "output_type": "stream",
     "text": [
      "Epoch 13: 100%|██████████████████████████████████████████████████████| 834/834 [01:38<00:00,  8.47batch/s]\n"
     ]
    },
    {
     "name": "stdout",
     "output_type": "stream",
     "text": [
      "Epoch: 13, loss: 0.00928997720927201\n"
     ]
    },
    {
     "name": "stderr",
     "output_type": "stream",
     "text": [
      "Epoch 14: 100%|██████████████████████████████████████████████████████| 834/834 [01:38<00:00,  8.50batch/s]\n"
     ]
    },
    {
     "name": "stdout",
     "output_type": "stream",
     "text": [
      "Epoch: 14, loss: 0.009146853123798915\n"
     ]
    },
    {
     "name": "stderr",
     "output_type": "stream",
     "text": [
      "Epoch 15: 100%|██████████████████████████████████████████████████████| 834/834 [01:37<00:00,  8.58batch/s]\n"
     ]
    },
    {
     "name": "stdout",
     "output_type": "stream",
     "text": [
      "Epoch: 15, loss: 0.009100341196199162\n"
     ]
    },
    {
     "name": "stderr",
     "output_type": "stream",
     "text": [
      "Epoch 16: 100%|██████████████████████████████████████████████████████| 834/834 [01:37<00:00,  8.59batch/s]\n"
     ]
    },
    {
     "name": "stdout",
     "output_type": "stream",
     "text": [
      "Epoch: 16, loss: 0.009214947256465541\n"
     ]
    },
    {
     "name": "stderr",
     "output_type": "stream",
     "text": [
      "Epoch 17: 100%|██████████████████████████████████████████████████████| 834/834 [01:39<00:00,  8.42batch/s]\n"
     ]
    },
    {
     "name": "stdout",
     "output_type": "stream",
     "text": [
      "Epoch: 17, loss: 0.00906242502387264\n"
     ]
    },
    {
     "name": "stderr",
     "output_type": "stream",
     "text": [
      "Epoch 18: 100%|██████████████████████████████████████████████████████| 834/834 [01:44<00:00,  7.94batch/s]\n"
     ]
    },
    {
     "name": "stdout",
     "output_type": "stream",
     "text": [
      "Epoch: 18, loss: 0.00908433064330314\n"
     ]
    },
    {
     "name": "stderr",
     "output_type": "stream",
     "text": [
      "Epoch 19: 100%|██████████████████████████████████████████████████████| 834/834 [01:42<00:00,  8.14batch/s]\n"
     ]
    },
    {
     "name": "stdout",
     "output_type": "stream",
     "text": [
      "Epoch: 19, loss: 0.009049489601928333\n"
     ]
    },
    {
     "name": "stderr",
     "output_type": "stream",
     "text": [
      "Epoch 20: 100%|██████████████████████████████████████████████████████| 834/834 [01:38<00:00,  8.44batch/s]\n"
     ]
    },
    {
     "name": "stdout",
     "output_type": "stream",
     "text": [
      "Epoch: 20, loss: 0.009015146654371182\n"
     ]
    },
    {
     "name": "stderr",
     "output_type": "stream",
     "text": [
      "Epoch 21: 100%|██████████████████████████████████████████████████████| 834/834 [01:39<00:00,  8.41batch/s]\n"
     ]
    },
    {
     "name": "stdout",
     "output_type": "stream",
     "text": [
      "Epoch: 21, loss: 0.008895021815675521\n"
     ]
    },
    {
     "name": "stderr",
     "output_type": "stream",
     "text": [
      "Epoch 22: 100%|██████████████████████████████████████████████████████| 834/834 [01:42<00:00,  8.15batch/s]\n"
     ]
    },
    {
     "name": "stdout",
     "output_type": "stream",
     "text": [
      "Epoch: 22, loss: 0.008909542537949787\n"
     ]
    },
    {
     "name": "stderr",
     "output_type": "stream",
     "text": [
      "Epoch 23: 100%|██████████████████████████████████████████████████████| 834/834 [01:44<00:00,  7.97batch/s]\n"
     ]
    },
    {
     "name": "stdout",
     "output_type": "stream",
     "text": [
      "Epoch: 23, loss: 0.008770899450664147\n"
     ]
    },
    {
     "name": "stderr",
     "output_type": "stream",
     "text": [
      "Epoch 24: 100%|██████████████████████████████████████████████████████| 834/834 [01:40<00:00,  8.32batch/s]\n"
     ]
    },
    {
     "name": "stdout",
     "output_type": "stream",
     "text": [
      "Epoch: 24, loss: 0.008842528466955598\n"
     ]
    },
    {
     "name": "stderr",
     "output_type": "stream",
     "text": [
      "Epoch 25: 100%|██████████████████████████████████████████████████████| 834/834 [01:41<00:00,  8.20batch/s]\n"
     ]
    },
    {
     "name": "stdout",
     "output_type": "stream",
     "text": [
      "Epoch: 25, loss: 0.0088246260812804\n"
     ]
    },
    {
     "data": {
      "image/png": "[encoded data removed]",
      "text/plain": [
       "<Figure size 640x480 with 1 Axes>"
      ]
     },
     "metadata": {},
     "output_type": "display_data"
    }
   ],
   "source": [
    "\n",
    "optimizer = torch.optim.Adam(cl.parameters(), lr=0.0005)\n",
    "all_loss, all_val_loss = train_cl(cl, train_dataloader, val_dataloader, 10)\n",
    "fig, ax  = plt.subplots()\n",
    "ax.plot(all_loss, label='Train')\n",
    "ax.set(xlabel='Epoch', ylabel='Loss')\n",
    "ax.legend()\n",
    "torch.save(cl.state_dict(), 'cl_png.pt')"
   ]
  },
  {
   "cell_type": "code",
   "execution_count": 211,
   "id": "e4edb299-165b-4a21-a39e-f12e4254143a",
   "metadata": {},
   "outputs": [
    {
     "name": "stderr",
     "output_type": "stream",
     "text": [
      "Epoch 1: 100%|███████████████████████████████████████████████████████| 834/834 [01:57<00:00,  7.08batch/s]\n"
     ]
    },
    {
     "name": "stdout",
     "output_type": "stream",
     "text": [
      "Epoch: 1, loss: 0.011810959390642545\n"
     ]
    },
    {
     "name": "stderr",
     "output_type": "stream",
     "text": [
      "Epoch 2: 100%|███████████████████████████████████████████████████████| 834/834 [02:00<00:00,  6.91batch/s]\n"
     ]
    },
    {
     "name": "stdout",
     "output_type": "stream",
     "text": [
      "Epoch: 2, loss: 0.011729575668477954\n"
     ]
    },
    {
     "name": "stderr",
     "output_type": "stream",
     "text": [
      "Epoch 3: 100%|███████████████████████████████████████████████████████| 834/834 [01:59<00:00,  6.99batch/s]\n"
     ]
    },
    {
     "name": "stdout",
     "output_type": "stream",
     "text": [
      "Epoch: 3, loss: 0.011708322347322874\n"
     ]
    },
    {
     "name": "stderr",
     "output_type": "stream",
     "text": [
      "Epoch 4: 100%|███████████████████████████████████████████████████████| 834/834 [02:04<00:00,  6.71batch/s]\n"
     ]
    },
    {
     "name": "stdout",
     "output_type": "stream",
     "text": [
      "Epoch: 4, loss: 0.01169196517392267\n"
     ]
    },
    {
     "name": "stderr",
     "output_type": "stream",
     "text": [
      "Epoch 5: 100%|███████████████████████████████████████████████████████| 834/834 [02:00<00:00,  6.90batch/s]\n"
     ]
    },
    {
     "name": "stdout",
     "output_type": "stream",
     "text": [
      "Epoch: 5, loss: 0.011729928333015746\n"
     ]
    },
    {
     "name": "stderr",
     "output_type": "stream",
     "text": [
      "Epoch 6: 100%|███████████████████████████████████████████████████████| 834/834 [02:00<00:00,  6.93batch/s]\n"
     ]
    },
    {
     "name": "stdout",
     "output_type": "stream",
     "text": [
      "Epoch: 6, loss: 0.011601612951342374\n"
     ]
    },
    {
     "name": "stderr",
     "output_type": "stream",
     "text": [
      "Epoch 7: 100%|███████████████████████████████████████████████████████| 834/834 [02:05<00:00,  6.66batch/s]\n"
     ]
    },
    {
     "name": "stdout",
     "output_type": "stream",
     "text": [
      "Epoch: 7, loss: 0.0116962398850673\n"
     ]
    },
    {
     "name": "stderr",
     "output_type": "stream",
     "text": [
      "Epoch 8: 100%|███████████████████████████████████████████████████████| 834/834 [01:59<00:00,  6.96batch/s]\n"
     ]
    },
    {
     "name": "stdout",
     "output_type": "stream",
     "text": [
      "Epoch: 8, loss: 0.011632195038807802\n"
     ]
    },
    {
     "name": "stderr",
     "output_type": "stream",
     "text": [
      "Epoch 9: 100%|███████████████████████████████████████████████████████| 834/834 [01:58<00:00,  7.04batch/s]\n"
     ]
    },
    {
     "name": "stdout",
     "output_type": "stream",
     "text": [
      "Epoch: 9, loss: 0.011655137048965272\n"
     ]
    },
    {
     "name": "stderr",
     "output_type": "stream",
     "text": [
      "Epoch 10: 100%|██████████████████████████████████████████████████████| 834/834 [01:59<00:00,  6.96batch/s]\n"
     ]
    },
    {
     "name": "stdout",
     "output_type": "stream",
     "text": [
      "Epoch: 10, loss: 0.011591488069665788\n"
     ]
    },
    {
     "data": {
      "image/png": "[encoded data removed]",
      "text/plain": [
       "<Figure size 640x480 with 1 Axes>"
      ]
     },
     "metadata": {},
     "output_type": "display_data"
    }
   ],
   "source": [
    "\n",
    "optimizer = torch.optim.Adam(cl.parameters(), lr=0.0003)\n",
    "all_loss, all_val_loss = train_cl(cl, train_dataloader, val_dataloader, 10)\n",
    "fig, ax  = plt.subplots()\n",
    "ax.plot(all_loss, label='Train')\n",
    "ax.set(xlabel='Epoch', ylabel='Loss')\n",
    "ax.legend()\n",
    "torch.save(cl.state_dict(), 'cl_png_4.pt')"
   ]
  },
  {
   "cell_type": "code",
   "execution_count": 212,
   "id": "5e2c0738-c914-4a4b-9e67-8ab7d6117e1d",
   "metadata": {},
   "outputs": [],
   "source": [
    "\n",
    "torch.save(cl.state_dict(), 'cl_png_4.pt')"
   ]
  },
  {
   "cell_type": "code",
   "execution_count": null,
   "id": "24cf1504-fad4-4bfa-9527-99861df13f36",
   "metadata": {},
   "outputs": [],
   "source": [
    "\n",
    "optimizer = torch.optim.Adam(cl.parameters(), lr=0.0005)\n",
    "all_loss, all_val_loss = train_cl(cl, train_dataloader, val_dataloader, 10)\n",
    "fig, ax  = plt.subplots()\n",
    "ax.plot(all_loss, label='Train')\n",
    "ax.set(xlabel='Epoch', ylabel='Loss')\n",
    "ax.legend()\n",
    "torch.save(cl.state_dict(), 'cl_png.pt')"
   ]
  },
  {
   "cell_type": "code",
   "execution_count": 50,
   "id": "2fe727d9-b5c1-4344-8e5c-0df0dbb874e0",
   "metadata": {},
   "outputs": [],
   "source": [
    "\n",
    "from torchsummary import summary"
   ]
  },
  {
   "cell_type": "code",
   "execution_count": 378,
   "id": "cc07d8c4-26da-496c-a64f-8c559ba53579",
   "metadata": {},
   "outputs": [
    {
     "name": "stdout",
     "output_type": "stream",
     "text": [
      "----------------------------------------------------------------\n",
      "        Layer (type)               Output Shape         Param #\n",
      "================================================================\n",
      "            Conv2d-1         [-1, 32, 224, 224]             320\n",
      "         MaxPool2d-2         [-1, 32, 112, 112]               0\n",
      "            Conv2d-3         [-1, 64, 112, 112]          18,496\n",
      "         MaxPool2d-4           [-1, 64, 56, 56]               0\n",
      "            Conv2d-5          [-1, 128, 56, 56]          73,856\n",
      "         MaxPool2d-6          [-1, 128, 28, 28]               0\n",
      "            Conv2d-7          [-1, 128, 28, 28]         147,584\n",
      "         MaxPool2d-8          [-1, 128, 14, 14]               0\n",
      "            Linear-9                  [-1, 128]       3,211,392\n",
      "================================================================\n",
      "Total params: 3,451,648\n",
      "Trainable params: 3,451,648\n",
      "Non-trainable params: 0\n",
      "----------------------------------------------------------------\n",
      "Input size (MB): 0.19\n",
      "Forward/backward pass size (MB): 27.75\n",
      "Params size (MB): 13.17\n",
      "Estimated Total Size (MB): 41.11\n",
      "----------------------------------------------------------------\n"
     ]
    }
   ],
   "source": [
    "\n",
    "summary(cl, (1, 224, 224))"
   ]
  },
  {
   "cell_type": "code",
   "execution_count": 51,
   "id": "6b30cd6d-92f8-4564-851e-7bc25899c18d",
   "metadata": {},
   "outputs": [],
   "source": [
    "from torchvision.models.detection.faster_rcnn import FastRCNNPredictor\n",
    "from torchvision.models.detection import FasterRCNN"
   ]
  },
  {
   "cell_type": "code",
   "execution_count": 52,
   "id": "45ae285b-ff6c-43e1-b1ae-44d67cbff701",
   "metadata": {},
   "outputs": [],
   "source": [
    "import torchvision"
   ]
  },
  {
   "cell_type": "code",
   "execution_count": 68,
   "id": "4ac196bb-6d64-4ea8-b422-1751bb3ee66b",
   "metadata": {},
   "outputs": [],
   "source": [
    "\n",
    "from torchvision.models.detection.faster_rcnn import FastRCNNPredictor\n",
    "from torchvision.models.detection import FasterRCNN\n",
    "def FRCNN():\n",
    "    model = torchvision.models.detection.fasterrcnn_mobilenet_v3_large_320_fpn()\n",
    "    model.roi_heads.box_predictor = FastRCNNPredictor(model.roi_heads.box_predictor.cls_score.in_features, 2)\n",
    "    return model"
   ]
  },
  {
   "cell_type": "code",
   "execution_count": 77,
   "id": "618c6fb7-2a64-43a0-a29d-e532c93b4b4a",
   "metadata": {},
   "outputs": [],
   "source": [
    "frcnn = FRCNN().cuda()\n",
    "optimizer = torch.optim.Adam(frcnn.parameters(), lr=1e-4, weight_decay=0.0005)\n"
   ]
  },
  {
   "cell_type": "code",
   "execution_count": 78,
   "id": "6c20d587-287c-4887-aed4-0a24d3e46b0e",
   "metadata": {},
   "outputs": [],
   "source": [
    "def train_frcnn(frcnn, train_dataloader, val_dataloader, e):\n",
    "    all_loss = []\n",
    "    all_val_loss = []\n",
    "    for epoch in range(1, e+1):\n",
    "        running_loss = 0\n",
    "        val_running_loss = 0\n",
    "        torch.cuda.empty_cache()\n",
    "        with tqdm(train_dataloader, unit=\"batch\") as tepoch:\n",
    "            frcnn.train()\n",
    "            for data in tepoch:\n",
    "                tepoch.set_description(f\"Epoch {epoch}\")\n",
    "                inputs, targets = data\n",
    "                inputs = list(input.detach().to('cuda') for input in inputs)\n",
    "                targets = [{key: value.detach().to('cuda') for key, value in target.items()} for target in targets]\n",
    "                optimizer.zero_grad()\n",
    "                losses = frcnn(inputs, targets)\n",
    "                loss = sum(loss for loss in losses.values())\n",
    "                loss.backward()\n",
    "                optimizer.step()\n",
    "                #accuracy.append(get_accuracy(labels, outputs))\n",
    "                running_loss += loss.item()\n",
    "                # tepoch.set_postfix(loss=running_loss)#, accuracy=sum(accuracy)/len(accuracy))\n",
    "        running_loss = running_loss/len(train_dataloader.dataset)\n",
    "        print(f'Epoch: {epoch}, loss: {running_loss}')        \n",
    "        all_loss.append(running_loss)\n",
    "        \"\"\"        \n",
    "        with tqdm(val_dataloader, unit=\"batch\") as tepoch:\n",
    "            for data in tepoch:\n",
    "                inputs, targets = data\n",
    "                inputs = list(input.detach().to('cuda') for input in inputs)\n",
    "                targets = [{key: value.detach().to('cuda') for key, value in t.items()} for target in targets]\n",
    "                optimizer.zero_grad()\n",
    "                with torch.no_grad():\n",
    "                    losses = frcnn(inputs, targets)\n",
    "                loss = sum(loss for loss in losses.values())\n",
    "                #val_accuracy.append(get_accuracy(labels, outputs))\n",
    "                val_running_loss += loss.item()\n",
    "                # tepoch.set_postfix(val_loss=val_running_loss)#, val_accuracy=sum(val_accuracy)/len(val_accuracy))\n",
    "        val_running_loss = val_running_loss/len(val_dataloader.dataset)    \n",
    "        print(f'Epoch: {epoch}, val loss: {val_running_loss}')\n",
    "        all_val_loss.append(val_running_loss)\n",
    "        \"\"\"\n",
    "    return all_loss, all_val_loss"
   ]
  },
  {
   "cell_type": "code",
   "execution_count": 79,
   "id": "37dd1b5a-efc6-4076-a7f7-eb8324208843",
   "metadata": {},
   "outputs": [
    {
     "name": "stderr",
     "output_type": "stream",
     "text": [
      "Epoch 1: 100%|███████████████████████████████████████████████████████| 188/188 [01:32<00:00,  2.02batch/s]\n"
     ]
    },
    {
     "name": "stdout",
     "output_type": "stream",
     "text": [
      "Epoch: 1, loss: 0.027536151027251148\n"
     ]
    },
    {
     "name": "stderr",
     "output_type": "stream",
     "text": [
      "Epoch 2: 100%|███████████████████████████████████████████████████████| 188/188 [01:31<00:00,  2.05batch/s]\n"
     ]
    },
    {
     "name": "stdout",
     "output_type": "stream",
     "text": [
      "Epoch: 2, loss: 0.026469373467043093\n"
     ]
    },
    {
     "name": "stderr",
     "output_type": "stream",
     "text": [
      "Epoch 3: 100%|███████████████████████████████████████████████████████| 188/188 [01:31<00:00,  2.05batch/s]\n"
     ]
    },
    {
     "name": "stdout",
     "output_type": "stream",
     "text": [
      "Epoch: 3, loss: 0.02533608565945984\n"
     ]
    },
    {
     "name": "stderr",
     "output_type": "stream",
     "text": [
      "Epoch 4: 100%|███████████████████████████████████████████████████████| 188/188 [01:31<00:00,  2.06batch/s]\n"
     ]
    },
    {
     "name": "stdout",
     "output_type": "stream",
     "text": [
      "Epoch: 4, loss: 0.024461027271971254\n"
     ]
    },
    {
     "name": "stderr",
     "output_type": "stream",
     "text": [
      "Epoch 5: 100%|███████████████████████████████████████████████████████| 188/188 [01:33<00:00,  2.02batch/s]\n"
     ]
    },
    {
     "name": "stdout",
     "output_type": "stream",
     "text": [
      "Epoch: 5, loss: 0.023455292878750554\n"
     ]
    },
    {
     "name": "stderr",
     "output_type": "stream",
     "text": [
      "Epoch 6: 100%|███████████████████████████████████████████████████████| 188/188 [01:31<00:00,  2.06batch/s]\n"
     ]
    },
    {
     "name": "stdout",
     "output_type": "stream",
     "text": [
      "Epoch: 6, loss: 0.022500944906921286\n"
     ]
    },
    {
     "name": "stderr",
     "output_type": "stream",
     "text": [
      "Epoch 7: 100%|███████████████████████████████████████████████████████| 188/188 [01:31<00:00,  2.06batch/s]\n"
     ]
    },
    {
     "name": "stdout",
     "output_type": "stream",
     "text": [
      "Epoch: 7, loss: 0.02152734774791314\n"
     ]
    },
    {
     "name": "stderr",
     "output_type": "stream",
     "text": [
      "Epoch 8: 100%|███████████████████████████████████████████████████████| 188/188 [01:33<00:00,  2.01batch/s]\n"
     ]
    },
    {
     "name": "stdout",
     "output_type": "stream",
     "text": [
      "Epoch: 8, loss: 0.02106343579546103\n"
     ]
    },
    {
     "name": "stderr",
     "output_type": "stream",
     "text": [
      "Epoch 9: 100%|███████████████████████████████████████████████████████| 188/188 [01:31<00:00,  2.06batch/s]\n"
     ]
    },
    {
     "name": "stdout",
     "output_type": "stream",
     "text": [
      "Epoch: 9, loss: 0.019993559249781485\n"
     ]
    },
    {
     "name": "stderr",
     "output_type": "stream",
     "text": [
      "Epoch 10: 100%|██████████████████████████████████████████████████████| 188/188 [01:30<00:00,  2.09batch/s]\n"
     ]
    },
    {
     "name": "stdout",
     "output_type": "stream",
     "text": [
      "Epoch: 10, loss: 0.019414187900360157\n"
     ]
    },
    {
     "name": "stderr",
     "output_type": "stream",
     "text": [
      "Epoch 11: 100%|██████████████████████████████████████████████████████| 188/188 [01:30<00:00,  2.08batch/s]\n"
     ]
    },
    {
     "name": "stdout",
     "output_type": "stream",
     "text": [
      "Epoch: 11, loss: 0.019145243370525058\n"
     ]
    },
    {
     "name": "stderr",
     "output_type": "stream",
     "text": [
      "Epoch 12: 100%|██████████████████████████████████████████████████████| 188/188 [01:31<00:00,  2.05batch/s]\n"
     ]
    },
    {
     "name": "stdout",
     "output_type": "stream",
     "text": [
      "Epoch: 12, loss: 0.01838933983823893\n"
     ]
    },
    {
     "name": "stderr",
     "output_type": "stream",
     "text": [
      "Epoch 13: 100%|██████████████████████████████████████████████████████| 188/188 [01:30<00:00,  2.08batch/s]\n"
     ]
    },
    {
     "name": "stdout",
     "output_type": "stream",
     "text": [
      "Epoch: 13, loss: 0.01783063205693931\n"
     ]
    },
    {
     "name": "stderr",
     "output_type": "stream",
     "text": [
      "Epoch 14: 100%|██████████████████████████████████████████████████████| 188/188 [01:29<00:00,  2.10batch/s]\n"
     ]
    },
    {
     "name": "stdout",
     "output_type": "stream",
     "text": [
      "Epoch: 14, loss: 0.017392371709911487\n"
     ]
    },
    {
     "name": "stderr",
     "output_type": "stream",
     "text": [
      "Epoch 15: 100%|██████████████████████████████████████████████████████| 188/188 [01:30<00:00,  2.08batch/s]"
     ]
    },
    {
     "name": "stdout",
     "output_type": "stream",
     "text": [
      "Epoch: 15, loss: 0.017135545209853234\n"
     ]
    },
    {
     "name": "stderr",
     "output_type": "stream",
     "text": [
      "\n"
     ]
    },
    {
     "data": {
      "text/plain": [
       "([0.027536151027251148,\n",
       "  0.026469373467043093,\n",
       "  0.02533608565945984,\n",
       "  0.024461027271971254,\n",
       "  0.023455292878750554,\n",
       "  0.022500944906921286,\n",
       "  0.02152734774791314,\n",
       "  0.02106343579546103,\n",
       "  0.019993559249781485,\n",
       "  0.019414187900360157,\n",
       "  0.019145243370525058,\n",
       "  0.01838933983823893,\n",
       "  0.01783063205693931,\n",
       "  0.017392371709911487,\n",
       "  0.017135545209853234],\n",
       " [])"
      ]
     },
     "execution_count": 79,
     "metadata": {},
     "output_type": "execute_result"
    }
   ],
   "source": [
    "train_frcnn(frcnn, train_dataloader_box, val_dataloader_box, 15)"
   ]
  },
  {
   "cell_type": "code",
   "execution_count": 174,
   "id": "ad239b74-a392-4656-b84c-e50967ea1590",
   "metadata": {},
   "outputs": [
    {
     "name": "stderr",
     "output_type": "stream",
     "text": [
      "Epoch 1: 100%|███████████████████████████████████████████████████████| 188/188 [01:29<00:00,  2.09batch/s]\n"
     ]
    },
    {
     "name": "stdout",
     "output_type": "stream",
     "text": [
      "Epoch: 1, loss: 0.023026115523127024\n"
     ]
    },
    {
     "name": "stderr",
     "output_type": "stream",
     "text": [
      "Epoch 2: 100%|███████████████████████████████████████████████████████| 188/188 [01:31<00:00,  2.07batch/s]\n"
     ]
    },
    {
     "name": "stdout",
     "output_type": "stream",
     "text": [
      "Epoch: 2, loss: 0.021761349228248544\n"
     ]
    },
    {
     "name": "stderr",
     "output_type": "stream",
     "text": [
      "Epoch 3: 100%|███████████████████████████████████████████████████████| 188/188 [01:31<00:00,  2.06batch/s]\n"
     ]
    },
    {
     "name": "stdout",
     "output_type": "stream",
     "text": [
      "Epoch: 3, loss: 0.020920408412526625\n"
     ]
    },
    {
     "name": "stderr",
     "output_type": "stream",
     "text": [
      "Epoch 4: 100%|███████████████████████████████████████████████████████| 188/188 [01:32<00:00,  2.04batch/s]\n"
     ]
    },
    {
     "name": "stdout",
     "output_type": "stream",
     "text": [
      "Epoch: 4, loss: 0.020593547005099768\n"
     ]
    },
    {
     "name": "stderr",
     "output_type": "stream",
     "text": [
      "Epoch 5: 100%|███████████████████████████████████████████████████████| 188/188 [01:32<00:00,  2.04batch/s]\n"
     ]
    },
    {
     "name": "stdout",
     "output_type": "stream",
     "text": [
      "Epoch: 5, loss: 0.01999496354294553\n"
     ]
    },
    {
     "name": "stderr",
     "output_type": "stream",
     "text": [
      "Epoch 6: 100%|███████████████████████████████████████████████████████| 188/188 [01:30<00:00,  2.09batch/s]\n"
     ]
    },
    {
     "name": "stdout",
     "output_type": "stream",
     "text": [
      "Epoch: 6, loss: 0.019003213968819488\n"
     ]
    },
    {
     "name": "stderr",
     "output_type": "stream",
     "text": [
      "Epoch 7: 100%|███████████████████████████████████████████████████████| 188/188 [01:30<00:00,  2.08batch/s]\n"
     ]
    },
    {
     "name": "stdout",
     "output_type": "stream",
     "text": [
      "Epoch: 7, loss: 0.019511977573751373\n"
     ]
    },
    {
     "name": "stderr",
     "output_type": "stream",
     "text": [
      "Epoch 8: 100%|███████████████████████████████████████████████████████| 188/188 [01:29<00:00,  2.09batch/s]\n"
     ]
    },
    {
     "name": "stdout",
     "output_type": "stream",
     "text": [
      "Epoch: 8, loss: 0.01911035812127138\n"
     ]
    },
    {
     "name": "stderr",
     "output_type": "stream",
     "text": [
      "Epoch 9: 100%|███████████████████████████████████████████████████████| 188/188 [01:31<00:00,  2.06batch/s]\n"
     ]
    },
    {
     "name": "stdout",
     "output_type": "stream",
     "text": [
      "Epoch: 9, loss: 0.018691831333432607\n"
     ]
    },
    {
     "name": "stderr",
     "output_type": "stream",
     "text": [
      "Epoch 10: 100%|██████████████████████████████████████████████████████| 188/188 [01:33<00:00,  2.00batch/s]\n"
     ]
    },
    {
     "name": "stdout",
     "output_type": "stream",
     "text": [
      "Epoch: 10, loss: 0.018271273694788703\n"
     ]
    },
    {
     "name": "stderr",
     "output_type": "stream",
     "text": [
      "Epoch 11: 100%|██████████████████████████████████████████████████████| 188/188 [01:32<00:00,  2.04batch/s]\n"
     ]
    },
    {
     "name": "stdout",
     "output_type": "stream",
     "text": [
      "Epoch: 11, loss: 0.018170061166177014\n"
     ]
    },
    {
     "name": "stderr",
     "output_type": "stream",
     "text": [
      "Epoch 12: 100%|██████████████████████████████████████████████████████| 188/188 [01:37<00:00,  1.92batch/s]\n"
     ]
    },
    {
     "name": "stdout",
     "output_type": "stream",
     "text": [
      "Epoch: 12, loss: 0.017838435620565217\n"
     ]
    },
    {
     "name": "stderr",
     "output_type": "stream",
     "text": [
      "Epoch 13: 100%|██████████████████████████████████████████████████████| 188/188 [01:37<00:00,  1.94batch/s]\n"
     ]
    },
    {
     "name": "stdout",
     "output_type": "stream",
     "text": [
      "Epoch: 13, loss: 0.017421805592909387\n"
     ]
    },
    {
     "name": "stderr",
     "output_type": "stream",
     "text": [
      "Epoch 14: 100%|██████████████████████████████████████████████████████| 188/188 [01:31<00:00,  2.05batch/s]\n"
     ]
    },
    {
     "name": "stdout",
     "output_type": "stream",
     "text": [
      "Epoch: 14, loss: 0.017635435178251325\n"
     ]
    },
    {
     "name": "stderr",
     "output_type": "stream",
     "text": [
      "Epoch 15: 100%|██████████████████████████████████████████████████████| 188/188 [01:30<00:00,  2.08batch/s]"
     ]
    },
    {
     "name": "stdout",
     "output_type": "stream",
     "text": [
      "Epoch: 15, loss: 0.017363751610754652\n"
     ]
    },
    {
     "name": "stderr",
     "output_type": "stream",
     "text": [
      "\n"
     ]
    },
    {
     "data": {
      "text/plain": [
       "([0.023026115523127024,\n",
       "  0.021761349228248544,\n",
       "  0.020920408412526625,\n",
       "  0.020593547005099768,\n",
       "  0.01999496354294553,\n",
       "  0.019003213968819488,\n",
       "  0.019511977573751373,\n",
       "  0.01911035812127138,\n",
       "  0.018691831333432607,\n",
       "  0.018271273694788703,\n",
       "  0.018170061166177014,\n",
       "  0.017838435620565217,\n",
       "  0.017421805592909387,\n",
       "  0.017635435178251325,\n",
       "  0.017363751610754652],\n",
       " [])"
      ]
     },
     "execution_count": 174,
     "metadata": {},
     "output_type": "execute_result"
    }
   ],
   "source": [
    "\n",
    "optimizer = torch.optim.Adam(frcnn.parameters(), lr=0.0002, weight_decay=0.0005)\n",
    "train_frcnn(frcnn, train_dataloader_box, val_dataloader_box, 15)"
   ]
  },
  {
   "cell_type": "code",
   "execution_count": 177,
   "id": "9e5778c9-697e-4823-8060-c642d492b92a",
   "metadata": {},
   "outputs": [
    {
     "name": "stderr",
     "output_type": "stream",
     "text": [
      "Epoch 1: 100%|███████████████████████████████████████████████████████| 188/188 [01:30<00:00,  2.09batch/s]\n"
     ]
    },
    {
     "name": "stdout",
     "output_type": "stream",
     "text": [
      "Epoch: 1, loss: 0.016840188089245093\n"
     ]
    },
    {
     "name": "stderr",
     "output_type": "stream",
     "text": [
      "Epoch 2: 100%|███████████████████████████████████████████████████████| 188/188 [01:29<00:00,  2.10batch/s]\n"
     ]
    },
    {
     "name": "stdout",
     "output_type": "stream",
     "text": [
      "Epoch: 2, loss: 0.01682715038121421\n"
     ]
    },
    {
     "name": "stderr",
     "output_type": "stream",
     "text": [
      "Epoch 3: 100%|███████████████████████████████████████████████████████| 188/188 [01:29<00:00,  2.10batch/s]\n"
     ]
    },
    {
     "name": "stdout",
     "output_type": "stream",
     "text": [
      "Epoch: 3, loss: 0.016854831870801435\n"
     ]
    },
    {
     "name": "stderr",
     "output_type": "stream",
     "text": [
      "Epoch 4: 100%|███████████████████████████████████████████████████████| 188/188 [01:29<00:00,  2.10batch/s]\n"
     ]
    },
    {
     "name": "stdout",
     "output_type": "stream",
     "text": [
      "Epoch: 4, loss: 0.01675615715468953\n"
     ]
    },
    {
     "name": "stderr",
     "output_type": "stream",
     "text": [
      "Epoch 5: 100%|███████████████████████████████████████████████████████| 188/188 [01:26<00:00,  2.17batch/s]\n"
     ]
    },
    {
     "name": "stdout",
     "output_type": "stream",
     "text": [
      "Epoch: 5, loss: 0.016941081407818886\n"
     ]
    },
    {
     "name": "stderr",
     "output_type": "stream",
     "text": [
      "Epoch 6: 100%|███████████████████████████████████████████████████████| 188/188 [01:30<00:00,  2.08batch/s]\n"
     ]
    },
    {
     "name": "stdout",
     "output_type": "stream",
     "text": [
      "Epoch: 6, loss: 0.01633108854392966\n"
     ]
    },
    {
     "name": "stderr",
     "output_type": "stream",
     "text": [
      "Epoch 7: 100%|███████████████████████████████████████████████████████| 188/188 [01:30<00:00,  2.08batch/s]\n"
     ]
    },
    {
     "name": "stdout",
     "output_type": "stream",
     "text": [
      "Epoch: 7, loss: 0.016160874131196986\n"
     ]
    },
    {
     "name": "stderr",
     "output_type": "stream",
     "text": [
      "Epoch 8: 100%|███████████████████████████████████████████████████████| 188/188 [01:33<00:00,  2.02batch/s]\n"
     ]
    },
    {
     "name": "stdout",
     "output_type": "stream",
     "text": [
      "Epoch: 8, loss: 0.015602004583565617\n"
     ]
    },
    {
     "name": "stderr",
     "output_type": "stream",
     "text": [
      "Epoch 9: 100%|███████████████████████████████████████████████████████| 188/188 [01:32<00:00,  2.04batch/s]\n"
     ]
    },
    {
     "name": "stdout",
     "output_type": "stream",
     "text": [
      "Epoch: 9, loss: 0.015819662365212254\n"
     ]
    },
    {
     "name": "stderr",
     "output_type": "stream",
     "text": [
      "Epoch 10: 100%|██████████████████████████████████████████████████████| 188/188 [01:29<00:00,  2.10batch/s]\n"
     ]
    },
    {
     "name": "stdout",
     "output_type": "stream",
     "text": [
      "Epoch: 10, loss: 0.016194806281162436\n"
     ]
    },
    {
     "name": "stderr",
     "output_type": "stream",
     "text": [
      "Epoch 11: 100%|██████████████████████████████████████████████████████| 188/188 [01:30<00:00,  2.07batch/s]\n"
     ]
    },
    {
     "name": "stdout",
     "output_type": "stream",
     "text": [
      "Epoch: 11, loss: 0.016285610849351307\n"
     ]
    },
    {
     "name": "stderr",
     "output_type": "stream",
     "text": [
      "Epoch 12: 100%|██████████████████████████████████████████████████████| 188/188 [01:29<00:00,  2.10batch/s]"
     ]
    },
    {
     "name": "stdout",
     "output_type": "stream",
     "text": [
      "Epoch: 12, loss: 0.015229844543351701\n"
     ]
    },
    {
     "name": "stderr",
     "output_type": "stream",
     "text": [
      "\n"
     ]
    },
    {
     "data": {
      "text/plain": [
       "([0.016840188089245093,\n",
       "  0.01682715038121421,\n",
       "  0.016854831870801435,\n",
       "  0.01675615715468953,\n",
       "  0.016941081407818886,\n",
       "  0.01633108854392966,\n",
       "  0.016160874131196986,\n",
       "  0.015602004583565617,\n",
       "  0.015819662365212254,\n",
       "  0.016194806281162436,\n",
       "  0.016285610849351307,\n",
       "  0.015229844543351701],\n",
       " [])"
      ]
     },
     "execution_count": 177,
     "metadata": {},
     "output_type": "execute_result"
    }
   ],
   "source": [
    "train_frcnn(frcnn, train_dataloader_box, val_dataloader_box, 12)"
   ]
  },
  {
   "cell_type": "code",
   "execution_count": 215,
   "id": "df99fd5c-f4b1-413a-8f25-8460b6024073",
   "metadata": {},
   "outputs": [],
   "source": [
    "torch.save(frcnn.state_dict(), 'mobile_png_1.pth')"
   ]
  },
  {
   "cell_type": "code",
   "execution_count": 111,
   "id": "280bb6c4-b179-4f9a-9e24-32840d30e065",
   "metadata": {},
   "outputs": [],
   "source": [
    "torch.save(frcnn.state_dict(), 'mobile_attempt_1.pth')"
   ]
  },
  {
   "cell_type": "code",
   "execution_count": 74,
   "id": "7913d0f5-2fb9-4b00-ad62-cdd3a421a90a",
   "metadata": {},
   "outputs": [],
   "source": [
    "def load_model(path_model, model_type, lr, wd=0):\n",
    "    \"\"\"\n",
    "    Loads in model\n",
    "    path_model - path to model\n",
    "    model_type - builder function\n",
    "    \"\"\"\n",
    "    model = model_type()\n",
    "    model.load_state_dict(torch.load(path_model))\n",
    "    return model"
   ]
  },
  {
   "cell_type": "code",
   "execution_count": null,
   "id": "8c34cdf9-7812-47ba-8f59-ff2a480d8c6e",
   "metadata": {},
   "outputs": [],
   "source": []
  },
  {
   "cell_type": "code",
   "execution_count": 75,
   "id": "8d4d74ac-8c7e-486e-8fd3-86e480fa7173",
   "metadata": {},
   "outputs": [],
   "source": [
    "def load_models(path_cl, path_det):\n",
    "    \"\"\"\n",
    "    Loads in both models\n",
    "    path_cl - path to classification model\n",
    "    path_det - path to detection model\n",
    "    \"\"\"\n",
    "    cl = load_model(path_cl, Classifier, 0.001)\n",
    "    cl = cl.cuda()\n",
    "    frcnn = load_model(path_det, FRCNN, 0.0001, wd = 0.0005)\n",
    "    frcnn = frcnn.cuda()\n",
    "    return cl, frcnn\n",
    "\n",
    "    \n"
   ]
  },
  {
   "cell_type": "code",
   "execution_count": 76,
   "id": "40f71821-2912-4a25-88fe-d9b1c8e49c89",
   "metadata": {},
   "outputs": [],
   "source": [
    "cl, frcnn = load_models(\"cl.pt\", \"mobile_attempt_1.pth\")"
   ]
  },
  {
   "cell_type": "code",
   "execution_count": 81,
   "id": "f34de6e0-0834-4f92-a462-6028bec0ea6e",
   "metadata": {},
   "outputs": [],
   "source": [
    "resize = transforms.Resize(size=224)\n",
    "test_transforms = transforms.Compose([resize,\n",
    "        transforms.ToTensor()])"
   ]
  },
  {
   "cell_type": "code",
   "execution_count": 82,
   "id": "2dbb001a-10f9-4dc8-b658-10f46cce7e8d",
   "metadata": {},
   "outputs": [],
   "source": [
    "import json\n",
    "from PIL import Image\n",
    "class TestDataset(Dataset):\n",
    "    \"\"\"\n",
    "    Class that creates dataset for training task\n",
    "    Arguments:\n",
    "    img_df - dataframe with cleaned dataset\n",
    "    img_dir - path to directory with training images\n",
    "    transform - transforms for input\n",
    "    \"\"\"\n",
    "    def __init__(self, img_dir, img_df, transform):\n",
    "        self.transform = transform\n",
    "        self.img_labels = img_df\n",
    "        self.img_dir = img_dir\n",
    "        self.mult = INPUT_HEIGHT/1024\n",
    "\n",
    "    def __len__(self):\n",
    "        return self.img_labels.shape[0]\n",
    "\n",
    "    def __getitem__(self, idx):\n",
    "        patient_id = self.img_labels[\"patientId\"][idx]\n",
    "        img_path = self.img_dir + f'/{self.img_labels[\"patientId\"][idx]}.dcm'\n",
    "        ds = dicom.dcmread(img_path)\n",
    "        image = Image.fromarray(ds.pixel_array)\n",
    "        # image.show()\n",
    "        if self.transform:\n",
    "            image = self.transform(image)\n",
    "        #print(image)\n",
    "        #print(patient_id)\n",
    "        return image, patient_id\n"
   ]
  },
  {
   "cell_type": "code",
   "execution_count": null,
   "id": "5c24ea9c-b46e-4cc4-9aa6-66f7f91e293c",
   "metadata": {},
   "outputs": [],
   "source": [
    "def create_test_df(test_dir):\n",
    "    test = [f[:-4] for f in os.listdir(test_dir)]\n",
    "    test = pd.DataFrame({'patientId':test})\n",
    "    return test"
   ]
  },
  {
   "cell_type": "code",
   "execution_count": null,
   "id": "53f70363-7df7-4260-a48a-ffb1e8e7088b",
   "metadata": {},
   "outputs": [],
   "source": []
  },
  {
   "cell_type": "code",
   "execution_count": 90,
   "id": "d2a0ae16-f167-4544-9036-bbb472340405",
   "metadata": {},
   "outputs": [],
   "source": [
    "def create_test_df(test_dir):\n",
    "    test = pd.read_csv('kaggle_set/stage_2_sample_submission.csv')\n",
    "    #test = test['patientId']\n",
    "    return test"
   ]
  },
  {
   "cell_type": "code",
   "execution_count": 91,
   "id": "9a5be43e-032a-47fc-91dc-b640d34718ee",
   "metadata": {},
   "outputs": [],
   "source": [
    "test_df = create_test_df('kaggle_set/stage_2_test_images')"
   ]
  },
  {
   "cell_type": "code",
   "execution_count": 92,
   "id": "8af39bd7-055e-4f87-85b4-5136a2d571f6",
   "metadata": {
    "scrolled": true
   },
   "outputs": [
    {
     "data": {
      "text/html": [
       "<div>\n",
       "<style scoped>\n",
       "    .dataframe tbody tr th:only-of-type {\n",
       "        vertical-align: middle;\n",
       "    }\n",
       "\n",
       "    .dataframe tbody tr th {\n",
       "        vertical-align: top;\n",
       "    }\n",
       "\n",
       "    .dataframe thead th {\n",
       "        text-align: right;\n",
       "    }\n",
       "</style>\n",
       "<table border=\"1\" class=\"dataframe\">\n",
       "  <thead>\n",
       "    <tr style=\"text-align: right;\">\n",
       "      <th></th>\n",
       "      <th>patientId</th>\n",
       "      <th>PredictionString</th>\n",
       "    </tr>\n",
       "  </thead>\n",
       "  <tbody>\n",
       "    <tr>\n",
       "      <th>0</th>\n",
       "      <td>0000a175-0e68-4ca4-b1af-167204a7e0bc</td>\n",
       "      <td>0.5 0 0 100 100</td>\n",
       "    </tr>\n",
       "    <tr>\n",
       "      <th>1</th>\n",
       "      <td>0005d3cc-3c3f-40b9-93c3-46231c3eb813</td>\n",
       "      <td>0.5 0 0 100 100</td>\n",
       "    </tr>\n",
       "    <tr>\n",
       "      <th>2</th>\n",
       "      <td>000686d7-f4fc-448d-97a0-44fa9c5d3aa6</td>\n",
       "      <td>0.5 0 0 100 100</td>\n",
       "    </tr>\n",
       "    <tr>\n",
       "      <th>3</th>\n",
       "      <td>000e3a7d-c0ca-4349-bb26-5af2d8993c3d</td>\n",
       "      <td>0.5 0 0 100 100</td>\n",
       "    </tr>\n",
       "    <tr>\n",
       "      <th>4</th>\n",
       "      <td>00100a24-854d-423d-a092-edcf6179e061</td>\n",
       "      <td>0.5 0 0 100 100</td>\n",
       "    </tr>\n",
       "  </tbody>\n",
       "</table>\n",
       "</div>"
      ],
      "text/plain": [
       "                              patientId PredictionString\n",
       "0  0000a175-0e68-4ca4-b1af-167204a7e0bc  0.5 0 0 100 100\n",
       "1  0005d3cc-3c3f-40b9-93c3-46231c3eb813  0.5 0 0 100 100\n",
       "2  000686d7-f4fc-448d-97a0-44fa9c5d3aa6  0.5 0 0 100 100\n",
       "3  000e3a7d-c0ca-4349-bb26-5af2d8993c3d  0.5 0 0 100 100\n",
       "4  00100a24-854d-423d-a092-edcf6179e061  0.5 0 0 100 100"
      ]
     },
     "execution_count": 92,
     "metadata": {},
     "output_type": "execute_result"
    }
   ],
   "source": [
    "test_df.head()"
   ]
  },
  {
   "cell_type": "code",
   "execution_count": 93,
   "id": "c570e2cf-0247-4a5e-8f96-5a1b9b25257d",
   "metadata": {},
   "outputs": [],
   "source": [
    "test_dataset = TestDataset('kaggle_set/stage_2_test_images', img_df = test_df, transform=test_transforms)#, classification=False)\n",
    "test_dataloader = DataLoader(test_dataset, batch_size=BATCH_SIZE, shuffle=False)#, collate_fn=collate_fn)"
   ]
  },
  {
   "cell_type": "code",
   "execution_count": 202,
   "id": "35403b3c-1160-45fd-8f71-b1f76b59a381",
   "metadata": {},
   "outputs": [],
   "source": [
    "from torchvision.ops.boxes import nms"
   ]
  },
  {
   "cell_type": "code",
   "execution_count": 213,
   "id": "4ee362e9-d2a5-4bf0-bfa7-ea9d60e25327",
   "metadata": {},
   "outputs": [],
   "source": [
    "def print_results(model_cl, model_frcnn, generator, iou_threshold=0.15, threshold=0.8):\n",
    "    cl, frcnn = model_cl, model_frcnn\n",
    "    test_dataloader = generator\n",
    "    with open('submission.csv', 'w', newline='') as file:\n",
    "        writer = csv.writer(file)\n",
    "        field = [\"patientId\", \"PredictionString\"]\n",
    "        writer.writerow(field)\n",
    "        cl.eval()\n",
    "        frcnn.eval()\n",
    "        with tqdm(test_dataloader, unit=\"batch\") as tepoch:\n",
    "            for data in tepoch:\n",
    "                tepoch.set_description(f\"Testing\")\n",
    "                inputs, labels = data\n",
    "                inputs = inputs.detach().to('cuda')\n",
    "                outputs = cl(inputs)\n",
    "                res = outputs.cpu().detach().numpy()\n",
    "                mask = [np.round(i) for i in res]\n",
    "                for i, m in enumerate(mask):\n",
    "                    if m == 0:\n",
    "                        writer.writerow([(labels[i]), \"\"])\n",
    "                    else:\n",
    "                        out_box = frcnn([inputs[i]])\n",
    "                        for o in out_box:\n",
    "                            scores = np.array(o['scores'].cpu().detach())\n",
    "                            if len(scores) < 1:\n",
    "                                writer.writerow([(labels[i]), \"\"])\n",
    "                                continue\n",
    "\n",
    "                            box_list = []\n",
    "                            boxes = np.array(o['boxes'].cpu().detach())\n",
    "                            box_i = np.array(o['scores'].cpu().detach()).argmax()\n",
    "                            ind = nms(o['boxes'], o['scores'], iou_threshold).detach().cpu().numpy()\n",
    "                            for j, bbox in enumerate(o['boxes'][ind]):\n",
    "                                if o['scores'][j] > threshold:\n",
    "                                    box_list += [scores[j], int(boxes[j][0] / test_dataset.mult),\n",
    "                                                 int(boxes[j][1] / test_dataset.mult),\n",
    "                                                 int((boxes[j][2] - boxes[j][0]) / test_dataset.mult),\n",
    "                                                 int((boxes[j][3] - boxes[j][1]) / test_dataset.mult)]\n",
    "                            if len(box_list) < 1:\n",
    "                                box_list = [scores[box_i], int(boxes[box_i][0] / test_dataset.mult),\n",
    "                                            int(boxes[box_i][1] / test_dataset.mult),\n",
    "                                            int((boxes[box_i][2] - boxes[box_i][0]) / test_dataset.mult),\n",
    "                                            int((boxes[box_i][3] - boxes[box_i][1]) / test_dataset.mult)]\n",
    "\n",
    "                            box_list = \" \".join(str(element) for element in box_list)\n",
    "                            writer.writerow([(labels[i]), box_list])\n",
    "            \n"
   ]
  },
  {
   "cell_type": "code",
   "execution_count": 217,
   "id": "ef1e9224-1d68-4389-81d5-cc833b2820dd",
   "metadata": {},
   "outputs": [
    {
     "name": "stderr",
     "output_type": "stream",
     "text": [
      "Testing: 100%|█████████████████████████████████████████████████████████| 94/94 [00:52<00:00,  1.78batch/s]\n"
     ]
    }
   ],
   "source": [
    "print_results(cl, frcnn, test_dataloader, 0.1, 0.5)"
   ]
  },
  {
   "cell_type": "code",
   "execution_count": 95,
   "id": "77f4af60-da9f-4811-aaec-6b24f86cf63b",
   "metadata": {},
   "outputs": [],
   "source": [
    "import csv"
   ]
  }
 ],
 "metadata": {
  "kernelspec": {
   "display_name": "Python 3 (ipykernel)",
   "language": "python",
   "name": "python3"
  },
  "language_info": {
   "codemirror_mode": {
    "name": "ipython",
    "version": 3
   },
   "file_extension": ".py",
   "mimetype": "text/x-python",
   "name": "python",
   "nbconvert_exporter": "python",
   "pygments_lexer": "ipython3",
   "version": "3.10.0"
  }
 },
 "nbformat": 4,
 "nbformat_minor": 5
}
